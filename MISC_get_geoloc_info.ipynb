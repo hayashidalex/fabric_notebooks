{
 "cells": [
  {
   "cell_type": "code",
   "execution_count": null,
   "id": "b33307ce-7be7-4719-8857-01d54fe0b585",
   "metadata": {},
   "outputs": [],
   "source": [
    "from fabrictestbed_extensions.fablib.fablib import FablibManager as fablib_manager\n",
    "from mflib import owl as owl\n"
   ]
  },
  {
   "cell_type": "code",
   "execution_count": null,
   "id": "83788af1-cf11-442c-83a7-75c76d42bf36",
   "metadata": {},
   "outputs": [],
   "source": [
    "print(f\"mflib version  {mflib.__version__} \" )"
   ]
  },
  {
   "cell_type": "code",
   "execution_count": null,
   "id": "df03089b-3817-414f-878a-32157541287f",
   "metadata": {},
   "outputs": [],
   "source": [
    "fablib = fablib_manager()"
   ]
  },
  {
   "cell_type": "code",
   "execution_count": null,
   "id": "04dac510-563d-4500-bc69-8e88753f2fa8",
   "metadata": {},
   "outputs": [],
   "source": [
    "# necessary for looking up geo-location of sites\n",
    "res = fablib.get_resources()"
   ]
  },
  {
   "cell_type": "code",
   "execution_count": null,
   "id": "f062ed0f-8da5-4d38-b2b1-3d930cf6d027",
   "metadata": {},
   "outputs": [],
   "source": [
    "slice_name=\"test_slice\"\n",
    "\n",
    "try:\n",
    "    slice = fablib.get_slice(name=slice_name)  \n",
    "except Exception as e:\n",
    "    print(f\"Exception: {e}\")"
   ]
  },
  {
   "cell_type": "code",
   "execution_count": null,
   "id": "b7e889cc-6dd8-4e61-813e-deac022018ab",
   "metadata": {},
   "outputs": [],
   "source": [
    "nodes = slice.get_nodes()\n",
    "\n",
    "node_names = []\n",
    "sites = []\n",
    "ips = []\n",
    "lats = []\n",
    "lons = []\n",
    "\n",
    "for node in nodes:\n",
    "    node_name = node.get_name()\n",
    "\n",
    "    if node_name != 'meas-node':\n",
    "        node_ip = owl.get_node_ip_addr(slice, node_name)\n",
    "        node_site_name = node.get_site()\n",
    "        lat, lon = res.get_location_lat_long(node_site_name)\n",
    "        \n",
    "        print(f'{node_name}: {node_ip}, {node_site_name}, {lat}, {lon}')\n",
    "        \n",
    "        node_names.append(node_name)\n",
    "        sites.append(node_site_name)\n",
    "        ips.append(node_ip)\n",
    "        lats.append(lat)\n",
    "        lons.append(lon)\n",
    "        \n",
    "print(f'nodes: {node_names}')\n",
    "print(f'IP Addresses: {ips}')\n",
    "print(f'sites: {sites}')\n",
    "print(f'longitudes: {lons}')\n",
    "print(f'latitutdes: {lats}')"
   ]
  },
  {
   "cell_type": "markdown",
   "id": "5b13b588-9fee-4a4b-a64a-d172c49972a4",
   "metadata": {},
   "source": [
    "## Create `sites.csv` file for latency monitoring"
   ]
  },
  {
   "cell_type": "code",
   "execution_count": null,
   "id": "272c21b4-a198-4449-8dba-3509f799adeb",
   "metadata": {},
   "outputs": [],
   "source": [
    "import csv\n",
    "\n",
    "file_name = 'sites.csv'\n",
    "fields = ['site', 'lat', 'lon']\n",
    "rows = zip(sites, lats, lons)\n",
    "\n",
    "print(rows)\n",
    "\n",
    "with open('sites.csv', 'w') as csvfile:\n",
    "    \n",
    "    # creating a csv writer object\n",
    "    csvwriter = csv.writer(csvfile)\n",
    " \n",
    "    # writing the fields\n",
    "    csvwriter.writerow(fields)\n",
    " \n",
    "    # writing the data rows\n",
    "    csvwriter.writerows(rows)\n",
    "    "
   ]
  },
  {
   "cell_type": "markdown",
   "id": "2e7e8bc9-bb44-466a-97e5-d71992dc4a78",
   "metadata": {},
   "source": [
    "## Create `slice.csv` file for latency monitoring"
   ]
  },
  {
   "cell_type": "code",
   "execution_count": null,
   "id": "31a3e9e6-c34a-4b8d-8959-437abc26ac4f",
   "metadata": {},
   "outputs": [],
   "source": [
    "import csv\n",
    "\n",
    "file_name = 'slice.csv'\n",
    "fields = ['site', 'node_name', 'ip_address']\n",
    "rows = zip(sites, node_names, ips)\n",
    "\n",
    "print(rows)\n",
    "\n",
    "with open('slice.csv', 'w') as csvfile:\n",
    "    \n",
    "    # creating a csv writer object\n",
    "    csvwriter = csv.writer(csvfile)\n",
    " \n",
    "    # writing the fields\n",
    "    csvwriter.writerow(fields)\n",
    " \n",
    "    # writing the data rows\n",
    "    csvwriter.writerows(rows)\n",
    "    "
   ]
  }
 ],
 "metadata": {
  "kernelspec": {
   "display_name": "Python 3 (ipykernel)",
   "language": "python",
   "name": "python3"
  },
  "language_info": {
   "codemirror_mode": {
    "name": "ipython",
    "version": 3
   },
   "file_extension": ".py",
   "mimetype": "text/x-python",
   "name": "python",
   "nbconvert_exporter": "python",
   "pygments_lexer": "ipython3",
   "version": "3.10.6"
  }
 },
 "nbformat": 4,
 "nbformat_minor": 5
}
