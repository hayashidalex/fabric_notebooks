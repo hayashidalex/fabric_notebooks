{
 "cells": [
  {
   "cell_type": "markdown",
   "id": "bb422616-8e9d-4b9a-b208-8464e05d8608",
   "metadata": {},
   "source": [
    "# OWL-DEV Build OWL IMage from Dockerfile on Each Node"
   ]
  },
  {
   "cell_type": "code",
   "execution_count": null,
   "id": "6b09446b-6293-44b8-9bdf-989ccd167b10",
   "metadata": {},
   "outputs": [],
   "source": [
    "from fabrictestbed_extensions.fablib.fablib import FablibManager as fablib_manager\n",
    "\n",
    "try:\n",
    "    fm = fablib_manager()\n",
    "                     \n",
    "    fm.show_config()\n",
    "except Exception as e:\n",
    "    print(f\"Exception: {e}\")"
   ]
  },
  {
   "cell_type": "markdown",
   "id": "d923c5c1-1b85-4313-9548-e9bf94b69eab",
   "metadata": {},
   "source": [
    "## List Slices"
   ]
  },
  {
   "cell_type": "code",
   "execution_count": null,
   "id": "f3eb21f0-1340-49c3-9eb9-a3f11abfe456",
   "metadata": {},
   "outputs": [],
   "source": [
    "fm.list_slices()"
   ]
  },
  {
   "cell_type": "markdown",
   "id": "98180430-9f21-47f0-a57b-459d8968320d",
   "metadata": {},
   "source": [
    "## Identify Slice"
   ]
  },
  {
   "cell_type": "code",
   "execution_count": null,
   "id": "50ea9945-0cee-495c-8433-fc0ebfa08575",
   "metadata": {},
   "outputs": [],
   "source": [
    "slice_name = \"test_slice\""
   ]
  },
  {
   "cell_type": "code",
   "execution_count": null,
   "id": "d2447399-3871-4d89-966d-fa75079479ef",
   "metadata": {},
   "outputs": [],
   "source": [
    "try:\n",
    "    slice = fm.get_slice(name=slice_name)\n",
    "except Exception as e:\n",
    "    print(f\"Fail: {e}\")\n",
    "print (slice)"
   ]
  },
  {
   "cell_type": "code",
   "execution_count": null,
   "id": "17a2fd7a-df20-4a6e-9359-c69a2438a899",
   "metadata": {},
   "outputs": [],
   "source": [
    "nodes = slice.get_nodes()"
   ]
  },
  {
   "cell_type": "markdown",
   "id": "9df7de90-4a71-48ee-a031-c5d366217e5e",
   "metadata": {},
   "source": [
    "## Clone Measurement Framework repo "
   ]
  },
  {
   "cell_type": "code",
   "execution_count": null,
   "id": "d2fd14c2-5dac-4a9f-8731-50b4568b3268",
   "metadata": {},
   "outputs": [],
   "source": [
    "from ipaddress import ip_address, IPv6Address\n",
    "\n",
    "# Uncomment only if it fails\n",
    "# # If the node is an IPv6 Node then configure NAT64\n",
    "# if type(ip_address(node.get_management_ip())) is IPv6Address:\n",
    "#     node.upload_file('nat64.sh', 'nat64.sh')\n",
    "\n",
    "#     stdout, stderr = node.execute(f'chmod +x nat64.sh && ./nat64.sh')\n",
    "\n",
    "# Access non-IPv6 Services\n",
    "\n",
    "for node in nodes:\n",
    "\n",
    "    stdout, stderr = node.execute(f'sudo yum install -y -q git && git clone --branch owl-main https://github.com/fabric-testbed/MeasurementFramework.git')\n",
    "    stdout, stderr = node.execute(f'ls -lh')"
   ]
  },
  {
   "cell_type": "markdown",
   "id": "374e0605-0460-41cb-acd3-2924c693bdf6",
   "metadata": {},
   "source": [
    "## Confirm Docker is running"
   ]
  },
  {
   "cell_type": "code",
   "execution_count": null,
   "id": "a04f1953-78d7-4446-808a-64498d5dc782",
   "metadata": {},
   "outputs": [],
   "source": [
    "for node in nodes:\n",
    "    node.execute(\"hostname\")\n",
    "    node.execute(\"sudo systemctl start docker\")\n",
    "    node.execute(\"sudo systemctl enable docker\")\n",
    "\n",
    "    print(f\"\\n Verify installtion... on {node.get_name()}\")\n",
    "    node.execute(\"docker ps\")"
   ]
  },
  {
   "cell_type": "code",
   "execution_count": null,
   "id": "70671899-1b85-4472-87f8-378c71587648",
   "metadata": {},
   "outputs": [],
   "source": [
    "for node in nodes:\n",
    "    node.execute(\"sudo systemctl restart docker\")"
   ]
  },
  {
   "cell_type": "markdown",
   "id": "e570e874-7259-4a92-835c-d1289512f29f",
   "metadata": {},
   "source": [
    "## Build a Docker image (name: `owl-test`)"
   ]
  },
  {
   "cell_type": "code",
   "execution_count": null,
   "id": "7c7978e4-554e-4587-8d64-5b618a808426",
   "metadata": {},
   "outputs": [],
   "source": [
    "for node in nodes:\n",
    "    stdout, stderr = node.execute('sudo docker build -t owl-test ~/MeasurementFramework/user_services/owl/. --no-cache --network=host')  "
   ]
  },
  {
   "cell_type": "code",
   "execution_count": null,
   "id": "ecab01f5-5fda-4e5d-9351-286114de5933",
   "metadata": {},
   "outputs": [],
   "source": [
    "for node in nodes:\n",
    "    stdout, stderr = node.execute('sudo docker images')"
   ]
  },
  {
   "cell_type": "code",
   "execution_count": null,
   "id": "08710809-cc14-4325-9b17-881ef45607d3",
   "metadata": {},
   "outputs": [],
   "source": []
  },
  {
   "cell_type": "code",
   "execution_count": null,
   "id": "c797ee41-1305-413c-9754-96fa1feb47cc",
   "metadata": {},
   "outputs": [],
   "source": []
  }
 ],
 "metadata": {
  "kernelspec": {
   "display_name": "Python 3 (ipykernel)",
   "language": "python",
   "name": "python3"
  },
  "language_info": {
   "codemirror_mode": {
    "name": "ipython",
    "version": 3
   },
   "file_extension": ".py",
   "mimetype": "text/x-python",
   "name": "python",
   "nbconvert_exporter": "python",
   "pygments_lexer": "ipython3",
   "version": "3.10.6"
  }
 },
 "nbformat": 4,
 "nbformat_minor": 5
}
