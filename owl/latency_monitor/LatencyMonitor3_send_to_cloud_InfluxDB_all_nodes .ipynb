{
 "cells": [
  {
   "cell_type": "markdown",
   "id": "c7910493-9c43-4f47-8364-f2d9fac60158",
   "metadata": {},
   "source": [
    "# OWL-DEV: Send to Cloud InfluxDB "
   ]
  },
  {
   "cell_type": "code",
   "execution_count": null,
   "id": "a89c9e50-4318-45b0-9aec-976b6d6fd0bd",
   "metadata": {},
   "outputs": [],
   "source": [
    "import mflib \n",
    "print(f\"mflib version  {mflib.__version__} \" )\n",
    "from fabrictestbed_extensions.fablib.fablib import FablibManager as fablib_manager\n",
    "from mflib import owl as owl\n",
    "\n",
    "#  Using local copy of owl.py for testing\n",
    "#import owl as owl                                                   "
   ]
  },
  {
   "cell_type": "code",
   "execution_count": null,
   "id": "07e0458f-e212-4f89-b81e-6462d46ca8d4",
   "metadata": {},
   "outputs": [],
   "source": [
    "try:\n",
    "    fm = fablib_manager()\n",
    "                     \n",
    "    fm.show_config()\n",
    "except Exception as e:\n",
    "    print(f\"Exception: {e}\")"
   ]
  },
  {
   "cell_type": "markdown",
   "id": "895627b5-0fa7-4c3b-b7fb-cf3ed9bc964e",
   "metadata": {},
   "source": [
    "## Get slice and nodes"
   ]
  },
  {
   "cell_type": "code",
   "execution_count": null,
   "id": "9fe59380-f343-43d4-8596-0101dd7a2c7d",
   "metadata": {},
   "outputs": [],
   "source": [
    "fm.list_slices()"
   ]
  },
  {
   "cell_type": "code",
   "execution_count": null,
   "id": "fe3c3859-7ab2-4935-abff-5fecf3b33834",
   "metadata": {},
   "outputs": [],
   "source": [
    "%%time\n",
    "\n",
    "slice_name = \"test_slice\"\n",
    "\n",
    "try:\n",
    "    slice = fm.get_slice(name=slice_name)\n",
    "except Exception as e:\n",
    "    print(f\"Fail: {e}\")\n",
    "print(slice)"
   ]
  },
  {
   "cell_type": "code",
   "execution_count": null,
   "id": "0a0d13fb-07ef-4771-a4c5-e485d8d4a4f0",
   "metadata": {},
   "outputs": [],
   "source": [
    "nodes = slice.get_nodes()"
   ]
  },
  {
   "cell_type": "markdown",
   "id": "3e24fa92-a8b1-4248-b259-d2b481d9d12e",
   "metadata": {},
   "source": [
    "## Enter the docker image name\n",
    "\n",
    "Image will be pulled from Docker Hub by default.\n",
    "If needing bo build from a Dockerfile, use [this](./OWL-DEV_build_image_from_Dockerfile.ipynb) in the same directory and change the image name. (e.g., \"owl-test:latest\")"
   ]
  },
  {
   "cell_type": "code",
   "execution_count": null,
   "id": "96b993c8-c63e-4fc2-a950-4845856407e0",
   "metadata": {},
   "outputs": [],
   "source": [
    "# if specific tag needed, add it like: \"fabrictestbed/owl:v0.1.2\"\n",
    "image_name=\"fabrictestbed/owl:v0.2.0\"  \n",
    "\n",
    "# If built from Dockerfile for testing \n",
    "#image_name=\"owl-test:latest\"  "
   ]
  },
  {
   "cell_type": "markdown",
   "id": "8bf9e8ba-bda2-40bd-a049-562aa795bf69",
   "metadata": {},
   "source": [
    "#### (Optional) Pull Docker image on each exp node\n",
    "\n",
    "Docker start (in the cells below) should pull the image automatically.\n",
    "But if pulling the image is necessary, use these lines."
   ]
  },
  {
   "cell_type": "code",
   "execution_count": null,
   "id": "1c578ecc-0c29-4ff1-b259-53abfb9f19a0",
   "metadata": {},
   "outputs": [],
   "source": [
    "# for node in nodes:\n",
    "#     print(node.get_name())\n",
    "#     node.execute(f\"sudo docker pull {image_name}\") "
   ]
  },
  {
   "cell_type": "markdown",
   "id": "7d39c508-c445-4c57-bd9b-95189530c995",
   "metadata": {},
   "source": [
    "## Send PCAP Data From Experimental Node(s) to InfluxDB \n",
    "\n",
    "OWL stores packet capture data by storing `tcpdump` output to a file with the format: `<IP_address>.pcap`. \n",
    "\n",
    "`<IP_address>` is the address of the node that the capture file resides in.\n",
    "\n",
    "Below, you need to specify value of `influxdb_sender_node_name` to one of the Experimental Node names. OWL will then send packet capture data from this node to the Measurement Node.\n",
    "\n",
    "In the following cell, the authentication information for InfluxDB must have previously been set up. **Make sure you have run that [cell](#influx_authentication) and return here.**"
   ]
  },
  {
   "cell_type": "code",
   "execution_count": null,
   "id": "3f70d8ec-875a-4659-b889-f68d6d344345",
   "metadata": {},
   "outputs": [],
   "source": [
    "# for node in nodes:\n",
    "#     node.execute('docker remove owl-to-influx')"
   ]
  },
  {
   "cell_type": "code",
   "execution_count": null,
   "id": "379eb898-99c3-453c-b5b5-f18a51f4b12a",
   "metadata": {},
   "outputs": [],
   "source": [
    "influxdb_connection = {\"influxdb_url\":\"\", \"influxdb_token\":\"\", \"influxdb_org\":\"\",\n",
    "                       \"influxdb_bucket\":\"\",  }\n",
    "\n",
    "influxdb_connection[\"influxdb_token\"] = \"<TOKEN>\"\n",
    "influxdb_connection[\"influxdb_org\"] = \"RC\"\n",
    "influxdb_connection[\"influxdb_url\"] = \"https://us-east-1-1.aws.cloud2.influxdata.com\"\n",
    "influxdb_connection[\"influxdb_bucket\"] = \"owl-test1\""
   ]
  },
  {
   "cell_type": "code",
   "execution_count": null,
   "id": "1ec090b8-f045-42ff-abe5-9fc0652bf654",
   "metadata": {},
   "outputs": [],
   "source": [
    "for node in slice.get_nodes():\n",
    "    influxdb_sender_node_name = node.get_name()\n",
    "    pcap_file_name = owl.get_node_ip_addr(slice, influxdb_sender_node_name) + \".pcap\"   # IP address of node from which to send to InfluxDB\n",
    "    print(f\"Planning to send stored .pcap data from Node: {influxdb_sender_node_name}\")\n",
    "    print(f\"pcap Filename = {pcap_file_name}\")\n",
    "    slice = fm.get_slice(slice_name)\n",
    "    _desttype = \"cloud\"\n",
    "    owl.send_to_influxdb(desttype=_desttype, node=slice.get_node(name=influxdb_sender_node_name), \n",
    "                         pcapfile=pcap_file_name,\n",
    "                         img_name=image_name,\n",
    "                         influxdb_token=influxdb_connection[\"influxdb_token\"],\n",
    "                         influxdb_org=influxdb_connection[\"influxdb_org\"], \n",
    "                         influxdb_url=influxdb_connection[\"influxdb_url\"],\n",
    "                         influxdb_bucket=influxdb_connection[\"influxdb_bucket\"])"
   ]
  },
  {
   "cell_type": "markdown",
   "id": "8ee126e9-eaa7-4758-b682-86b696a7b1f8",
   "metadata": {},
   "source": [
    "## Check the status of containers"
   ]
  },
  {
   "cell_type": "code",
   "execution_count": null,
   "id": "01df62d4-baaf-4577-8949-f82750bdef87",
   "metadata": {},
   "outputs": [],
   "source": [
    "owl.check_owl_all(slice)"
   ]
  },
  {
   "cell_type": "markdown",
   "id": "482db6ec-70c7-4e4a-8224-986a576d1b3e",
   "metadata": {},
   "source": [
    "## Stop InfluxDB container on one node"
   ]
  },
  {
   "cell_type": "code",
   "execution_count": null,
   "id": "7fb26f51-db7c-4b97-bec5-2278d5a444ee",
   "metadata": {},
   "outputs": [],
   "source": [
    "node_name = \"node1\"\n",
    "\n",
    "owl.stop_influxdb_sender(slice, slice.get_node(name=node_name))"
   ]
  },
  {
   "cell_type": "markdown",
   "id": "4e2e9b80-88ad-43b5-8fc1-ad8d469e130a",
   "metadata": {},
   "source": [
    "## Stop all of them"
   ]
  },
  {
   "cell_type": "code",
   "execution_count": null,
   "id": "d5ab2c59-2159-4c91-99fc-ae08c33305d7",
   "metadata": {},
   "outputs": [],
   "source": [
    "owl.stop_owl_all(slice)"
   ]
  },
  {
   "cell_type": "markdown",
   "id": "936df078-2a93-48d8-a7b8-7a3db8beb60f",
   "metadata": {},
   "source": [
    "## (For debugging) Download a pcap file"
   ]
  },
  {
   "cell_type": "code",
   "execution_count": null,
   "id": "f7d4acc7-5af9-4880-b617-ce950747f280",
   "metadata": {},
   "outputs": [],
   "source": [
    "node0 = slice.get_node(name=\"node0\")\n",
    "pcap_file = '10.136.7.2.pcap'"
   ]
  },
  {
   "cell_type": "code",
   "execution_count": null,
   "id": "93a8d1d3-5e86-48a5-ba04-685823ff3613",
   "metadata": {},
   "outputs": [],
   "source": [
    "node0.download_file(f\"/home/fabric/work/my_notebooks/Latency_monitoring/ConfirmTesting/{pcap_file}\", f\"/home/rocky/owl-output/{pcap_file}\")"
   ]
  }
 ],
 "metadata": {
  "kernelspec": {
   "display_name": "Python 3 (ipykernel)",
   "language": "python",
   "name": "python3"
  },
  "language_info": {
   "codemirror_mode": {
    "name": "ipython",
    "version": 3
   },
   "file_extension": ".py",
   "mimetype": "text/x-python",
   "name": "python",
   "nbconvert_exporter": "python",
   "pygments_lexer": "ipython3",
   "version": "3.10.6"
  }
 },
 "nbformat": 4,
 "nbformat_minor": 5
}
