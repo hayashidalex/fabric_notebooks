{
 "cells": [
  {
   "cell_type": "markdown",
   "id": "ca6de93a-0ad1-4d33-8ed6-476e7dfa4ef6",
   "metadata": {
    "tags": []
   },
   "source": [
    "# OWL_DEBUG_check_network_connectivity"
   ]
  },
  {
   "cell_type": "code",
   "execution_count": null,
   "id": "89be59a5-0d7d-450f-a47e-445f22c757d5",
   "metadata": {
    "tags": []
   },
   "outputs": [],
   "source": [
    "import os\n",
    "import json\n",
    "import traceback\n",
    "import mflib \n",
    "print(f\"mflib version  {mflib.__version__} \" )\n",
    "from mflib.mflib import MFLib\n",
    "# import fabrictestbed_extensions\n",
    "# from fabrictestbed_extensions.fablib.fablib import fablib\n",
    "from fabrictestbed_extensions.fablib.fablib import FablibManager as fablib_manager\n",
    "#import owl as owl\n",
    "from mflib import owl as owl"
   ]
  },
  {
   "cell_type": "markdown",
   "id": "1aa4aa4e-9442-4523-8c09-20e62423e428",
   "metadata": {},
   "source": [
    "## List slices"
   ]
  },
  {
   "cell_type": "code",
   "execution_count": null,
   "id": "3725d234-d258-4725-b598-61b78bb7369c",
   "metadata": {},
   "outputs": [],
   "source": [
    "fm = fablib_manager()\n",
    "fm.list_slices()"
   ]
  },
  {
   "cell_type": "markdown",
   "id": "a6c92b80-6d8e-49f4-871a-7f252982bc4e",
   "metadata": {},
   "source": [
    "## Get slice"
   ]
  },
  {
   "cell_type": "code",
   "execution_count": null,
   "id": "203d6760-5791-40f0-8f02-d5ec7f8e6667",
   "metadata": {},
   "outputs": [],
   "source": [
    "%%time\n",
    "\n",
    "slice_name = \"latency_monitoring_slice\"\n",
    "\n",
    "try:\n",
    "    slice = fm.get_slice(name=slice_name)\n",
    "except Exception as e:\n",
    "    print(f\"Fail: {e}\")\n",
    "print(slice)"
   ]
  },
  {
   "cell_type": "code",
   "execution_count": null,
   "id": "c4a33ef7-7564-4ec2-a452-17bd3f3d0b61",
   "metadata": {},
   "outputs": [],
   "source": [
    "nodes = slice.get_nodes()"
   ]
  },
  {
   "cell_type": "code",
   "execution_count": null,
   "id": "0a97ab26-bb3c-4393-873b-a5905da67427",
   "metadata": {},
   "outputs": [],
   "source": [
    "node0 = slice.get_node(name=\"node0\")\n",
    "\n",
    "for i in range(len(nodes)):\n",
    "    dst_node_addr = nodes[i].get_interface(network_name=f'FABNET_IPv4_{nodes[i].get_site()}').get_ip_addr()\n",
    "    print(f\"\\n**************Pinging node{i}***************\") \n",
    "    stdout, stderr = node0.execute(f'ping -c 3 {dst_node_addr}')"
   ]
  },
  {
   "cell_type": "code",
   "execution_count": null,
   "id": "0504c69c-9514-461c-b51f-7b1378a05897",
   "metadata": {},
   "outputs": [],
   "source": []
  }
 ],
 "metadata": {
  "kernelspec": {
   "display_name": "Python 3 (ipykernel)",
   "language": "python",
   "name": "python3"
  },
  "language_info": {
   "codemirror_mode": {
    "name": "ipython",
    "version": 3
   },
   "file_extension": ".py",
   "mimetype": "text/x-python",
   "name": "python",
   "nbconvert_exporter": "python",
   "pygments_lexer": "ipython3",
   "version": "3.10.6"
  }
 },
 "nbformat": 4,
 "nbformat_minor": 5
}
