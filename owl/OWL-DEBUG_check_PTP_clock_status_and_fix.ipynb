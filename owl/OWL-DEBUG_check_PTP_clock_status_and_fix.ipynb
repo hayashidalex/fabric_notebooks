{
 "cells": [
  {
   "cell_type": "markdown",
   "id": "ccab9f9b-ac9e-4ebe-92fe-b561de8936df",
   "metadata": {},
   "source": [
    "# Check PTP Status"
   ]
  },
  {
   "cell_type": "code",
   "execution_count": null,
   "id": "4d5be143-f20c-4b42-a167-dd7efdf8f8d5",
   "metadata": {
    "tags": []
   },
   "outputs": [],
   "source": [
    "import os\n",
    "import json\n",
    "import traceback\n",
    "import mflib \n",
    "print(f\"mflib version  {mflib.__version__} \" )\n",
    "from mflib.mflib import MFLib\n",
    "# import fabrictestbed_extensions\n",
    "# from fabrictestbed_extensions.fablib.fablib import fablib\n",
    "from fabrictestbed_extensions.fablib.fablib import FablibManager as fablib_manager\n",
    "#import owl as owl\n",
    "from mflib import owl as owl"
   ]
  },
  {
   "cell_type": "markdown",
   "id": "c0ec4d91-be2e-4ac8-8d7b-f5156eabc443",
   "metadata": {},
   "source": [
    "## List slices"
   ]
  },
  {
   "cell_type": "code",
   "execution_count": null,
   "id": "afa89840-e894-45d6-a294-c05177f39e02",
   "metadata": {},
   "outputs": [],
   "source": [
    "fm = fablib_manager()\n",
    "fm.list_slices()"
   ]
  },
  {
   "cell_type": "markdown",
   "id": "c4327c8c-6567-41fb-859e-5522e327aa2c",
   "metadata": {},
   "source": [
    "## Get slice"
   ]
  },
  {
   "cell_type": "code",
   "execution_count": null,
   "id": "0f3ec96b-6a0d-4dca-869e-0ad8e9ce293b",
   "metadata": {},
   "outputs": [],
   "source": [
    "%%time\n",
    "\n",
    "slice_name = \"latency_monitoring_slice\"\n",
    "\n",
    "try:\n",
    "    slice = fm.get_slice(name=slice_name)\n",
    "except Exception as e:\n",
    "    print(f\"Fail: {e}\")\n",
    "print(slice)"
   ]
  },
  {
   "cell_type": "code",
   "execution_count": null,
   "id": "4515510a-2b1a-4ad4-aa51-dcf228ae1287",
   "metadata": {},
   "outputs": [],
   "source": [
    "nodes = slice.get_nodes()"
   ]
  },
  {
   "cell_type": "code",
   "execution_count": null,
   "id": "f5268682-6729-4e90-ac91-12a3ba6b3c15",
   "metadata": {},
   "outputs": [],
   "source": [
    "for node in nodes:\n",
    "    print(\"\\n************************\")\n",
    "    node.execute(\"hostname\")\n",
    "    node.execute(\"ps -ef | grep phc2sys\")"
   ]
  },
  {
   "cell_type": "markdown",
   "id": "d4118000-799a-42ca-bfc4-d5fee89f2987",
   "metadata": {
    "tags": []
   },
   "source": [
    "## Set up PTP (Precision Time Protocol)"
   ]
  },
  {
   "cell_type": "markdown",
   "id": "faebea16-9985-488a-86f4-67005477bf5a",
   "metadata": {
    "tags": []
   },
   "source": [
    "## Install and setup linuxptp package  on nodes\n",
    "Download the Ansible role to configure and install the LinuxPTP software. For more details regarding the steps performed in the playbook, please refer to the repo at [https://github.com/fabric-testbed/ptp](https://github.com/fabric-testbed/ptp)"
   ]
  },
  {
   "cell_type": "code",
   "execution_count": null,
   "id": "55a4f53e-81a6-4a8c-9f19-5de2d3c39dfe",
   "metadata": {},
   "outputs": [],
   "source": [
    "pre_requisites = None\n",
    "\n",
    "# Set Deployment tool repository details\n",
    "repo_branch = 'main'\n",
    "repo_name = 'ptp'\n",
    "destination_folder = f\"\"\"/tmp/{repo_name}-{repo_branch}\"\"\"\n",
    "clone_instructions = f\"\"\"\n",
    "cd /tmp/;rm -rf /tmp/{repo_name}-{repo_branch};git clone --branch {repo_branch} https://github.com/fabric-testbed/{repo_name}.git {destination_folder};\n",
    "\"\"\""
   ]
  },
  {
   "cell_type": "markdown",
   "id": "65921da9-7cc4-49af-9e07-98e4954dce07",
   "metadata": {},
   "source": [
    "### Setting PTP Install Restrictions (Leave it blank)\n",
    "\n",
    "* If you do not want all interfaces synchronized to PTP, add the name of interfaces to avoid as shown\n",
    "* Management interfaces are not considered and are avoided by default\n",
    "* If you do not want the system clock synchronized to PTP set the 'SYNC_SYSTEM_CLOCK' to False\n",
    "* If you do not have any restrictions for a node, you can omit that node from the list\n",
    "\n",
    "Example:\n",
    "```\n",
    "NODE_RESTRICTIONS = { \n",
    "   'node1' : { 'AVOID_IFACES': ['enp6s0'],'SYNC_SYSTEM_CLOCK': False},\n",
    "   'node2' : { 'AVOID_IFACES': ['enp6s0','enp7s0']},\n",
    "}\n",
    "```"
   ]
  },
  {
   "cell_type": "code",
   "execution_count": null,
   "id": "c4f3c082-8c28-4fb7-81bb-bcd2c3a603fe",
   "metadata": {},
   "outputs": [],
   "source": [
    "NODE_RESTRICTIONS = {}"
   ]
  },
  {
   "cell_type": "markdown",
   "id": "aaa79f87-51f5-4dec-9044-961cd1443d65",
   "metadata": {},
   "source": [
    "### Restrict Ansible operation based on tags (Leave it blank)\n",
    "\n",
    "* Possible values are ptp_stop,ptp_start,ptp_install \n",
    "* Only one tag is allowed\n",
    "* If empty then all three are performed in the right sequence\n",
    "* If NODE_RESTRICTIONS are applied along with the tags, the operations will not be performed on the AVOIDED INTERFACES\n",
    "\n",
    "Example\n",
    "```\n",
    "ansible_tags = 'ptp_stop'\n",
    "```"
   ]
  },
  {
   "cell_type": "code",
   "execution_count": null,
   "id": "e7c651ed-d083-4efd-8c72-9ce292799279",
   "metadata": {},
   "outputs": [],
   "source": [
    "ansible_tags = ''"
   ]
  },
  {
   "cell_type": "markdown",
   "id": "cc7bc279-01db-4664-8875-ae050533ea7a",
   "metadata": {},
   "source": [
    "### Run Ansible playbook on each node that needs PTP set up"
   ]
  },
  {
   "cell_type": "code",
   "execution_count": null,
   "id": "1c276a56-5906-4351-885a-e3e38e1cf182",
   "metadata": {},
   "outputs": [],
   "source": [
    "bad_nodes = [slice.get_node(name=\"node5\"),]"
   ]
  },
  {
   "cell_type": "code",
   "execution_count": null,
   "id": "19ad50d3-0e67-4760-a81b-5bde33c8a961",
   "metadata": {},
   "outputs": [],
   "source": [
    "\n",
    "# Instruction to run ansible command from the node\n",
    "ansible_instructions = f\"\"\"\n",
    "cd {destination_folder}/ansible;ansible-playbook --connection=local --inventory 127.0.0.1, --limit 127.0.0.1 playbook_fabric_experiment_ptp.yml\"\"\"\n",
    "\n",
    "#Create execute threads\n",
    "execute_threads = {}\n",
    "\n",
    "for node in bad_nodes:\n",
    "    if [ele for ele in [\"rocky\", \"centos\"] if (ele in node.get_image())]:\n",
    "        pre_requisites = f\"\"\"\n",
    "        sudo dnf -y install epel-release ; sudo dnf -y install ansible git;\n",
    "        \"\"\"\n",
    "    elif [ele for ele in [\"ubuntu\", \"debian\"] if (ele in node.get_image())]:\n",
    "        pre_requisites = f\"\"\"sudo apt-get update;sudo apt-get -y install ansible git;\"\"\"\n",
    "    else:\n",
    "        pre_requisites = None\n",
    "    node_name = node.get_name()\n",
    "    \n",
    "    # Create JSON files for extra params that will be provided to ansible\n",
    "    if node_name in NODE_RESTRICTIONS.keys():    \n",
    "        extra_ansible_params = f\"\"\" --extra-vars @parameters.json\"\"\";\n",
    "        with open('/tmp/'+node_name+'-parameters.json', 'w') as f:\n",
    "            json.dump(NODE_RESTRICTIONS[node_name], f)\n",
    "        print (f\"Uploading install restrictions for {node_name}\")    \n",
    "        node.upload_file('/tmp/'+node_name+'-parameters.json',destination_folder+'/ansible/parameters.json')\n",
    "    else:\n",
    "        extra_ansible_params = ''\n",
    "    if ansible_tags != '':\n",
    "        extra_ansible_params = extra_ansible_params + ' --tags '+ansible_tags\n",
    "        \n",
    "    print (f\"Running the PTP Deployment Ansible Playbook on {node.get_name()}\")\n",
    "    execute_threads[node] = node.execute_thread(\\\n",
    "                f\"{pre_requisites}\"\\\n",
    "                f\"{clone_instructions}\"\\\n",
    "                f\"{ansible_instructions}\"\\\n",
    "                f\"{extra_ansible_params}\",\\\n",
    "                output_file=f\"/tmp/{node.get_name()}_ptpinstall.log\"\\\n",
    "                )\n",
    "\n",
    "    #Wait for results from threads\n",
    "for node,thread in execute_threads.items():\n",
    "    print(f\"Waiting for result from node {node.get_name()}\")\n",
    "    stdout,stderr = thread.result()\n",
    "\n",
    "print (f\"Ansible Playbook run on all nodes completed\\n\")"
   ]
  },
  {
   "cell_type": "code",
   "execution_count": null,
   "id": "add597a8-435b-496c-bff5-86f1882c1fb7",
   "metadata": {},
   "outputs": [],
   "source": []
  }
 ],
 "metadata": {
  "kernelspec": {
   "display_name": "Python 3 (ipykernel)",
   "language": "python",
   "name": "python3"
  },
  "language_info": {
   "codemirror_mode": {
    "name": "ipython",
    "version": 3
   },
   "file_extension": ".py",
   "mimetype": "text/x-python",
   "name": "python",
   "nbconvert_exporter": "python",
   "pygments_lexer": "ipython3",
   "version": "3.10.6"
  }
 },
 "nbformat": 4,
 "nbformat_minor": 5
}
