{
 "cells": [
  {
   "cell_type": "markdown",
   "metadata": {},
   "source": [
    "# Create OWL (PTP) Topology (MASTER)"
   ]
  },
  {
   "cell_type": "markdown",
   "metadata": {},
   "source": [
    "## Import the FABlib Library\n"
   ]
  },
  {
   "cell_type": "code",
   "execution_count": null,
   "metadata": {},
   "outputs": [],
   "source": [
    "from fabrictestbed_extensions.fablib.fablib import FablibManager as fablib_manager\n",
    "\n",
    "try:\n",
    "    fm = fablib_manager()\n",
    "                     \n",
    "    fm.show_config()\n",
    "except Exception as e:\n",
    "    print(f\"Exception: {e}\")"
   ]
  },
  {
   "cell_type": "markdown",
   "metadata": {},
   "source": [
    "### List slices"
   ]
  },
  {
   "cell_type": "code",
   "execution_count": null,
   "metadata": {},
   "outputs": [],
   "source": [
    "fm.list_slices()"
   ]
  },
  {
   "cell_type": "markdown",
   "metadata": {},
   "source": [
    "## Choose sites"
   ]
  },
  {
   "cell_type": "markdown",
   "metadata": {},
   "source": [
    "### Choose ALL PTP-enalbed sites"
   ]
  },
  {
   "cell_type": "code",
   "execution_count": null,
   "metadata": {},
   "outputs": [],
   "source": [
    "sites = fm.get_site_names()\n",
    "print(f\"all sites: {len(sites)} ({sites})\")\n",
    "\n",
    "ptp_sites = fm.list_sites(\n",
    "    output=\"list\",\n",
    "    quiet=True,\n",
    "    filter_function = lambda x:x['ptp_capable'] is True and x['state'] == 'Active',\n",
    ")\n",
    "ptp_site_names = [x['name'] for x in ptp_sites]\n",
    "\n",
    "print(f\"PTP-enabled and active sites: {len(ptp_site_names)} ({ptp_site_names})\")\n"
   ]
  },
  {
   "cell_type": "markdown",
   "metadata": {
    "tags": []
   },
   "source": [
    "### If a certain number of sites (rather than ALL PTP-enabled sites) are desired"
   ]
  },
  {
   "cell_type": "code",
   "execution_count": null,
   "metadata": {},
   "outputs": [],
   "source": [
    "# ptp_site_names = fm.get_random_sites(count=3, filter_function=lambda x: x['ptp_capable'] is True and x['state'] == 'Active') "
   ]
  },
  {
   "cell_type": "markdown",
   "metadata": {
    "tags": []
   },
   "source": [
    "## Create a slice with one node placed on each PTP-enabled site\n",
    "\n",
    "The following creates a slice with one node on each PTP-capable site, with basic NICs connected to FABRIC's FABnetv4 internet. "
   ]
  },
  {
   "cell_type": "code",
   "execution_count": null,
   "metadata": {},
   "outputs": [],
   "source": [
    "slice_name = \"latency_monitoring_slice\""
   ]
  },
  {
   "cell_type": "code",
   "execution_count": null,
   "metadata": {},
   "outputs": [],
   "source": [
    "slice = fm.new_slice(name=slice_name)\n",
    "\n",
    "for i, site_name in enumerate(ptp_site_names):\n",
    "    node = slice.add_node(name=f\"node{i}\", site=site_name, image='docker_rocky_8')\n",
    "    node.add_fabnet()\n",
    "    print(f\"adding node{i} at {site_name}\")\n",
    "\n",
    "#Submit Slice Request\n",
    "slice.submit();"
   ]
  },
  {
   "cell_type": "markdown",
   "metadata": {
    "tags": []
   },
   "source": [
    "## (Optional) Observe the Slice's Attributes"
   ]
  },
  {
   "cell_type": "code",
   "execution_count": null,
   "metadata": {
    "tags": []
   },
   "outputs": [],
   "source": [
    "try:\n",
    "    slice = fm.get_slice(name=slice_name)\n",
    "    slice.show()\n",
    "    slice.list_nodes()\n",
    "    slice.list_networks()\n",
    "    slice.list_interfaces()\n",
    "except Exception as e:\n",
    "    print(f\"Exception: {e}\")"
   ]
  },
  {
   "cell_type": "markdown",
   "metadata": {},
   "source": [
    "## Check connectivity via Experimenter's network\n",
    "\n",
    "The following checks Node0 --> each node in the topology"
   ]
  },
  {
   "cell_type": "code",
   "execution_count": null,
   "metadata": {},
   "outputs": [],
   "source": [
    "node0 = slice.get_node(name=\"node0\")\n",
    "nodes = slice.get_nodes()\n",
    "\n",
    "for i in range(len(nodes)):\n",
    "    dst_node_addr = nodes[i].get_interface(network_name=f'FABNET_IPv4_{nodes[i].get_site()}').get_ip_addr()\n",
    "    stdout, stderr = node0.execute(f'ping -c 3 {dst_node_addr}')\n",
    "\n",
    "    \n",
    "# except Exception as e:\n",
    "#     print(f\"Exception: {e}\")"
   ]
  },
  {
   "cell_type": "markdown",
   "metadata": {},
   "source": [
    "# Prepare each node for time precision experiments"
   ]
  },
  {
   "cell_type": "markdown",
   "metadata": {},
   "source": [
    "## Optimize repositories based on management network type (ipv4 vs ipv6)\n"
   ]
  },
  {
   "cell_type": "code",
   "execution_count": null,
   "metadata": {},
   "outputs": [],
   "source": [
    "for node in nodes:\n",
    "    IPv6Management = False\n",
    "    ip_proto_index = \"4\"\n",
    "    commands = \"sudo ip -6 route del default via `ip -6 route show default|grep fe80|awk '{print $3}'` > /dev/null 2>&1\"\n",
    "    if node.validIPAddress(node.get_management_ip()) == \"IPv6\":\n",
    "        IPv6Management = True\n",
    "        ip_proto_index = \"6\"\n",
    "    if [ele for ele in [\"rocky\", \"centos\"] if (ele in node.get_image())]:\n",
    "        commands = (\n",
    "            f'sudo echo \"max_parallel_downloads=10\" |sudo tee -a /etc/dnf/dnf.conf;'\n",
    "            f'sudo echo \"fastestmirror=True\" |sudo tee -a /etc/dnf/dnf.conf;'\n",
    "            f'sudo echo \"ip_resolve='\n",
    "            + ip_proto_index\n",
    "            + '\" |sudo tee -a /etc/dnf/dnf.conf;'\n",
    "        )\n",
    "    elif [ele for ele in [\"ubuntu\", \"debian\"] if (ele in node.get_image())]:\n",
    "        commands = (\n",
    "            'sudo echo \"Acquire::ForceIPv'\n",
    "            + ip_proto_index\n",
    "            + ' \"true\";\" | sudo tee -a /etc/apt/apt.conf.d/1000-force-ipv'\n",
    "            + ip_proto_index\n",
    "            + \"-transport\"\n",
    "        )\n",
    "    if commands:\n",
    "        stdout, stderr = node.execute(commands, quiet=True)\n",
    "        print (f\"Optimizing Repos for {node.get_name()}\")\n",
    "        #print (f\"STDOUT: {stdout}\")\n",
    "        if stderr:\n",
    "            print (f\"STDERR: {stderr}\")"
   ]
  },
  {
   "cell_type": "markdown",
   "metadata": {},
   "source": [
    "## Set up PTP (Precision Time Protocol)\n",
    "\n",
    "This block can take a while to execute. If successful, it will print `Installation of PTP Completed`."
   ]
  },
  {
   "cell_type": "code",
   "execution_count": null,
   "metadata": {},
   "outputs": [],
   "source": [
    "pre_requisites = None\n",
    "\n",
    "clone_instructions = f\"\"\"\n",
    "cd /tmp/;git clone --filter=blob:none --no-checkout --depth 1 --sparse https://github.com/fabric-testbed/MeasurementFramework.git;\n",
    "cd /tmp/MeasurementFramework;git sparse-checkout add instrumentize/ptp/ansible;git checkout;\n",
    "\"\"\"\n",
    "\n",
    "ansible_instructions = f\"\"\"\n",
    "cd /tmp/MeasurementFramework/instrumentize/ptp/ansible;\n",
    "ansible-playbook --connection=local --inventory 127.0.0.1, --limit 127.0.0.1 playbook_fabric_experiment_ptp.yml;\n",
    "\"\"\"\n",
    "\n",
    "#Create execute threads\n",
    "execute_threads = {}\n",
    "\n",
    "for node in nodes:\n",
    "    if [ele for ele in [\"rocky\", \"centos\"] if (ele in node.get_image())]:\n",
    "        pre_requisites = f\"\"\"\n",
    "        sudo dnf -y install epel-release ; sudo dnf -y install ansible git; mkdir /tmp/ptp_ansible/;\n",
    "        \"\"\"\n",
    "    elif [ele for ele in [\"ubuntu\", \"debian\"] if (ele in node.get_image())]:\n",
    "        pre_requisites = f\"\"\"sudo apt-get update;sudo apt-get -y install ansible git;\"\"\"\n",
    "    else:\n",
    "        pre_requisites = None\n",
    "    print (f\"Installing PTP on {node.get_name()}\")\n",
    "    execute_threads[node] = node.execute_thread(\\\n",
    "                f\"{pre_requisites}\"\\\n",
    "                f\"{clone_instructions}\"\\\n",
    "                f\"{ansible_instructions}\",\\\n",
    "                output_file=f\"/tmp/{node.get_name()}_ptpinstall.log\"\\\n",
    "                )\n",
    "\n",
    "    #Wait for results from threads\n",
    "for node,thread in execute_threads.items():\n",
    "    print(f\"Waiting for result from node {node.get_name()}\")\n",
    "    stdout,stderr = thread.result()\n",
    "    #print(f\"stdout: {stdout}\")\n",
    "    #print(f\"stderr: {stderr}\")\n",
    "    #node.execute(f\"{pre_requisites}\"\\\n",
    "    #             f\"{ansible_instructions}\"\\\n",
    "    #            )\n",
    "\n",
    "print (f\"Installation of PTP Completed\\n\\n\")"
   ]
  },
  {
   "cell_type": "markdown",
   "metadata": {},
   "source": [
    "## Start Docker and verify it is running\n",
    "\n",
    "`docker ps` should print `CONTAINER ID   IMAGE     COMMAND   CREATED   STATUS    PORTS     NAMES`"
   ]
  },
  {
   "cell_type": "code",
   "execution_count": null,
   "metadata": {},
   "outputs": [],
   "source": [
    "for node in nodes:\n",
    "    node.execute(\"sudo systemctl start docker\")\n",
    "    node.execute(\"sudo systemctl enable docker\")\n",
    "    node.execute(\"sudo usermod -aG docker rocky\")\n",
    "    \n",
    "    print(f\"\\n Verify installtion... on {node.get_name()}\")\n",
    "    node.execute(\"docker ps\")"
   ]
  },
  {
   "cell_type": "markdown",
   "metadata": {
    "tags": []
   },
   "source": [
    "# (Optional) Extend the slice (Add 14 days)"
   ]
  },
  {
   "cell_type": "code",
   "execution_count": null,
   "metadata": {},
   "outputs": [],
   "source": [
    "try:\n",
    "    slice = fm.get_slice(name=slice_name)\n",
    "    print(f\"Lease End         : {slice.get_lease_end()}\")\n",
    "       \n",
    "except Exception as e:\n",
    "    print(f\"Exception: {e}\")"
   ]
  },
  {
   "cell_type": "code",
   "execution_count": null,
   "metadata": {},
   "outputs": [],
   "source": [
    "import datetime\n",
    "\n",
    "#Extend slice\n",
    "end_date = (datetime.datetime.now().astimezone() + datetime.timedelta(days=14)).strftime(\"%Y-%m-%d %H:%M:%S %z\")\n",
    "\n",
    "try:\n",
    "    slice = fm.get_slice(name=slice_name)\n",
    "    slice.renew(end_date)\n",
    "    print(f\"New lease end date : {slice.get_lease_end()}\")\n",
    "    \n",
    "except Exception as e:\n",
    "    print(f\"Exception: {e}\")"
   ]
  },
  {
   "cell_type": "markdown",
   "metadata": {
    "tags": []
   },
   "source": [
    "# Delete the Slice"
   ]
  },
  {
   "cell_type": "code",
   "execution_count": null,
   "metadata": {},
   "outputs": [],
   "source": [
    "# try:\n",
    "#     slice = fm.get_slice(name=slice_name)\n",
    "#     slice.delete()\n",
    "# except Exception as e:\n",
    "#     print(f\"Exception: {e}\")"
   ]
  },
  {
   "cell_type": "code",
   "execution_count": null,
   "metadata": {},
   "outputs": [],
   "source": []
  }
 ],
 "metadata": {
  "kernelspec": {
   "display_name": "Python 3 (ipykernel)",
   "language": "python",
   "name": "python3"
  },
  "language_info": {
   "codemirror_mode": {
    "name": "ipython",
    "version": 3
   },
   "file_extension": ".py",
   "mimetype": "text/x-python",
   "name": "python",
   "nbconvert_exporter": "python",
   "pygments_lexer": "ipython3",
   "version": "3.10.6"
  }
 },
 "nbformat": 4,
 "nbformat_minor": 4
}
