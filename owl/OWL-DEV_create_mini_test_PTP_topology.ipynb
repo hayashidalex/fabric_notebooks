{
 "cells": [
  {
   "cell_type": "markdown",
   "metadata": {},
   "source": [
    "# Create OWL (PTP) minimal topology"
   ]
  },
  {
   "cell_type": "markdown",
   "metadata": {},
   "source": [
    "## Import the FABlib Library\n"
   ]
  },
  {
   "cell_type": "code",
   "execution_count": null,
   "metadata": {},
   "outputs": [],
   "source": [
    "from fabrictestbed_extensions.fablib.fablib import FablibManager as fablib_manager\n",
    "\n",
    "try:\n",
    "    fm = fablib_manager()\n",
    "                     \n",
    "    fm.show_config()\n",
    "except Exception as e:\n",
    "    print(f\"Exception: {e}\")"
   ]
  },
  {
   "cell_type": "markdown",
   "metadata": {},
   "source": [
    "### List slices"
   ]
  },
  {
   "cell_type": "code",
   "execution_count": null,
   "metadata": {},
   "outputs": [],
   "source": [
    "fm.list_slices()"
   ]
  },
  {
   "cell_type": "markdown",
   "metadata": {},
   "source": [
    "## Choose sites"
   ]
  },
  {
   "cell_type": "markdown",
   "metadata": {},
   "source": [
    "### Choose ALL PTP-enalbed sites"
   ]
  },
  {
   "cell_type": "code",
   "execution_count": null,
   "metadata": {},
   "outputs": [],
   "source": [
    "sites = fm.get_site_names()\n",
    "print(f\"all sites: {len(sites)} ({sites})\")\n",
    "\n",
    "# ptp_sites = fm.list_sites(\n",
    "#     output=\"list\",\n",
    "#     quiet=True,\n",
    "#     filter_function = lambda x:x['ptp_capable'] is True and x['state'] == 'Active',\n",
    "# )\n",
    "# ptp_site_names = [x['name'] for x in ptp_sites]\n",
    "\n",
    "# print(f\"PTP-enabled and active sites: {len(ptp_site_names)} ({ptp_site_names})\")\n"
   ]
  },
  {
   "cell_type": "markdown",
   "metadata": {
    "tags": []
   },
   "source": [
    "### If a certain number of sites (rather than ALL PTP-enabled sites) are desired"
   ]
  },
  {
   "cell_type": "code",
   "execution_count": null,
   "metadata": {},
   "outputs": [],
   "source": [
    "ptp_site_names = fm.get_random_sites(count=2, filter_function=lambda x: x['ptp_capable'] is True and x['state'] == 'Active') \n",
    "print(f\"Chosen PTP-enabled sites: {len(ptp_site_names)} ({ptp_site_names})\")"
   ]
  },
  {
   "cell_type": "markdown",
   "metadata": {
    "tags": []
   },
   "source": [
    "## Create a slice with one node placed on each PTP-enabled site\n",
    "\n",
    "The following creates a slice with one node on each PTP-capable site, with basic NICs connected to FABRIC's FABnetv4 internet. "
   ]
  },
  {
   "cell_type": "code",
   "execution_count": null,
   "metadata": {},
   "outputs": [],
   "source": [
    "slice_name = \"test_slice\""
   ]
  },
  {
   "cell_type": "code",
   "execution_count": null,
   "metadata": {},
   "outputs": [],
   "source": [
    "slice = fm.new_slice(name=slice_name)\n",
    "\n",
    "for i, site_name in enumerate(ptp_site_names):\n",
    "    node = slice.add_node(name=f\"node{i}\", site=site_name, image='docker_rocky_8')\n",
    "    node.add_fabnet()\n",
    "    print(f\"adding node{i} at {site_name}\")\n",
    "\n",
    "#Submit Slice Request\n",
    "slice.submit();"
   ]
  },
  {
   "cell_type": "markdown",
   "metadata": {
    "tags": []
   },
   "source": [
    "## (Optional) Observe the Slice's Attributes"
   ]
  },
  {
   "cell_type": "code",
   "execution_count": null,
   "metadata": {
    "tags": []
   },
   "outputs": [],
   "source": [
    "try:\n",
    "    slice = fm.get_slice(name=slice_name)\n",
    "    slice.show()\n",
    "    slice.list_nodes()\n",
    "    slice.list_networks()\n",
    "    slice.list_interfaces()\n",
    "except Exception as e:\n",
    "    print(f\"Exception: {e}\")"
   ]
  },
  {
   "cell_type": "markdown",
   "metadata": {},
   "source": [
    "## Check connectivity via Experimenter's network\n",
    "\n",
    "The following checks Node0 --> each node in the topology"
   ]
  },
  {
   "cell_type": "code",
   "execution_count": null,
   "metadata": {},
   "outputs": [],
   "source": [
    "node0 = slice.get_node(name=\"node0\")\n",
    "nodes = slice.get_nodes()\n",
    "\n",
    "for i in range(len(nodes)):\n",
    "    dst_node_addr = nodes[i].get_interface(network_name=f'FABNET_IPv4_{nodes[i].get_site()}').get_ip_addr()\n",
    "    stdout, stderr = node0.execute(f'ping -c 3 {dst_node_addr}')\n",
    "\n",
    "    \n",
    "# except Exception as e:\n",
    "#     print(f\"Exception: {e}\")"
   ]
  },
  {
   "cell_type": "markdown",
   "metadata": {
    "tags": []
   },
   "source": [
    "# Prepare each node for time precision experiments"
   ]
  },
  {
   "cell_type": "markdown",
   "metadata": {
    "tags": []
   },
   "source": [
    "## Install and setup linuxptp package  on nodes\n",
    "Download the Ansible role to configure and install the LinuxPTP software. For more details regarding the steps performed in the playbook, please refer to the repo at [https://github.com/fabric-testbed/ptp](https://github.com/fabric-testbed/ptp)"
   ]
  },
  {
   "cell_type": "code",
   "execution_count": null,
   "metadata": {
    "tags": []
   },
   "outputs": [],
   "source": [
    "pre_requisites = None\n",
    "\n",
    "# Set Deployment tool repository details\n",
    "repo_branch = 'main'\n",
    "repo_name = 'ptp'\n",
    "destination_folder = f\"\"\"/tmp/{repo_name}-{repo_branch}\"\"\"\n",
    "clone_instructions = f\"\"\"\n",
    "cd /tmp/;rm -rf /tmp/{repo_name}-{repo_branch};git clone --branch {repo_branch} https://github.com/fabric-testbed/{repo_name}.git {destination_folder};\n",
    "\"\"\""
   ]
  },
  {
   "cell_type": "markdown",
   "metadata": {},
   "source": [
    "### Setting PTP Install Restrictions (Leave it blank)\n",
    "\n",
    "* If you do not want all interfaces synchronized to PTP, add the name of interfaces to avoid as shown\n",
    "* Management interfaces are not considered and are avoided by default\n",
    "* If you do not want the system clock synchronized to PTP set the 'SYNC_SYSTEM_CLOCK' to False\n",
    "* If you do not have any restrictions for a node, you can omit that node from the list\n",
    "\n",
    "Example:\n",
    "```\n",
    "NODE_RESTRICTIONS = { \n",
    "   'node1' : { 'AVOID_IFACES': ['enp6s0'],'SYNC_SYSTEM_CLOCK': False},\n",
    "   'node2' : { 'AVOID_IFACES': ['enp6s0','enp7s0']},\n",
    "}\n",
    "```"
   ]
  },
  {
   "cell_type": "code",
   "execution_count": null,
   "metadata": {},
   "outputs": [],
   "source": [
    "NODE_RESTRICTIONS = {}"
   ]
  },
  {
   "cell_type": "markdown",
   "metadata": {},
   "source": [
    "### Restrict Ansible operation based on tags (Leave it blank)\n",
    "\n",
    "* Possible values are ptp_stop,ptp_start,ptp_install \n",
    "* Only one tag is allowed\n",
    "* If empty then all three are performed in the right sequence\n",
    "* If NODE_RESTRICTIONS are applied along with the tags, the operations will not be performed on the AVOIDED INTERFACES\n",
    "\n",
    "Example\n",
    "```\n",
    "ansible_tags = 'ptp_stop'\n",
    "```"
   ]
  },
  {
   "cell_type": "code",
   "execution_count": null,
   "metadata": {},
   "outputs": [],
   "source": [
    "ansible_tags = ''"
   ]
  },
  {
   "cell_type": "markdown",
   "metadata": {},
   "source": [
    "### Run Ansible playbook on each node"
   ]
  },
  {
   "cell_type": "code",
   "execution_count": null,
   "metadata": {},
   "outputs": [],
   "source": [
    "# Instruction to run ansible command from the node\n",
    "ansible_instructions = f\"\"\"\n",
    "cd {destination_folder}/ansible;ansible-playbook --connection=local --inventory 127.0.0.1, --limit 127.0.0.1 playbook_fabric_experiment_ptp.yml\"\"\"\n",
    "\n",
    "#Create execute threads\n",
    "execute_threads = {}\n",
    "\n",
    "for node in nodes:\n",
    "    if [ele for ele in [\"rocky\", \"centos\"] if (ele in node.get_image())]:\n",
    "        pre_requisites = f\"\"\"\n",
    "        sudo dnf -y install epel-release ; sudo dnf -y install ansible git;\n",
    "        \"\"\"\n",
    "    elif [ele for ele in [\"ubuntu\", \"debian\"] if (ele in node.get_image())]:\n",
    "        pre_requisites = f\"\"\"sudo apt-get update;sudo apt-get -y install ansible git;\"\"\"\n",
    "    else:\n",
    "        pre_requisites = None\n",
    "    node_name = node.get_name()\n",
    "    \n",
    "    # Create JSON files for extra params that will be provided to ansible\n",
    "    if node_name in NODE_RESTRICTIONS.keys():    \n",
    "        extra_ansible_params = f\"\"\" --extra-vars @parameters.json\"\"\";\n",
    "        with open('/tmp/'+node_name+'-parameters.json', 'w') as f:\n",
    "            json.dump(NODE_RESTRICTIONS[node_name], f)\n",
    "        print (f\"Uploading install restrictions for {node_name}\")    \n",
    "        node.upload_file('/tmp/'+node_name+'-parameters.json',destination_folder+'/ansible/parameters.json')\n",
    "    else:\n",
    "        extra_ansible_params = ''\n",
    "    if ansible_tags != '':\n",
    "        extra_ansible_params = extra_ansible_params + ' --tags '+ansible_tags\n",
    "        \n",
    "    print (f\"Running the PTP Deployment Ansible Playbook on {node.get_name()}\")\n",
    "    execute_threads[node] = node.execute_thread(\\\n",
    "                f\"{pre_requisites}\"\\\n",
    "                f\"{clone_instructions}\"\\\n",
    "                f\"{ansible_instructions}\"\\\n",
    "                f\"{extra_ansible_params}\",\\\n",
    "                output_file=f\"/tmp/{node.get_name()}_ptpinstall.log\"\\\n",
    "                )\n",
    "\n",
    "    #Wait for results from threads\n",
    "for node,thread in execute_threads.items():\n",
    "    print(f\"Waiting for result from node {node.get_name()}\")\n",
    "    stdout,stderr = thread.result()\n",
    "\n",
    "print (f\"Ansible Playbook run on all nodes completed\\n\")"
   ]
  },
  {
   "cell_type": "markdown",
   "metadata": {},
   "source": [
    "## Start Docker and verify it is running\n",
    "\n",
    "`docker ps` should print `CONTAINER ID   IMAGE     COMMAND   CREATED   STATUS    PORTS     NAMES`"
   ]
  },
  {
   "cell_type": "code",
   "execution_count": null,
   "metadata": {},
   "outputs": [],
   "source": [
    "for node in nodes:\n",
    "    node.execute(\"sudo systemctl start docker\")\n",
    "    node.execute(\"sudo systemctl enable docker\")\n",
    "    node.execute(\"sudo usermod -aG docker rocky\")\n",
    "    \n",
    "    print(f\"\\n Verify installtion... on {node.get_name()}\")\n",
    "    node.execute(\"docker ps\")"
   ]
  },
  {
   "cell_type": "markdown",
   "metadata": {
    "tags": []
   },
   "source": [
    "# (Optional) Extend the slice (Add 14 days)"
   ]
  },
  {
   "cell_type": "code",
   "execution_count": null,
   "metadata": {},
   "outputs": [],
   "source": [
    "try:\n",
    "    slice = fm.get_slice(name=slice_name)\n",
    "    print(f\"Lease End         : {slice.get_lease_end()}\")\n",
    "       \n",
    "except Exception as e:\n",
    "    print(f\"Exception: {e}\")"
   ]
  },
  {
   "cell_type": "code",
   "execution_count": null,
   "metadata": {},
   "outputs": [],
   "source": [
    "import datetime\n",
    "\n",
    "#Extend slice\n",
    "end_date = (datetime.datetime.now().astimezone() + datetime.timedelta(days=14)).strftime(\"%Y-%m-%d %H:%M:%S %z\")\n",
    "\n",
    "try:\n",
    "    slice = fm.get_slice(name=slice_name)\n",
    "    slice.renew(end_date)\n",
    "    print(f\"New lease end date : {slice.get_lease_end()}\")\n",
    "    \n",
    "except Exception as e:\n",
    "    print(f\"Exception: {e}\")"
   ]
  },
  {
   "cell_type": "markdown",
   "metadata": {
    "tags": []
   },
   "source": [
    "# Delete the Slice"
   ]
  },
  {
   "cell_type": "code",
   "execution_count": null,
   "metadata": {},
   "outputs": [],
   "source": [
    "# try:\n",
    "#     slice = fm.get_slice(name=slice_name)\n",
    "#     slice.delete()\n",
    "# except Exception as e:\n",
    "#     print(f\"Exception: {e}\")"
   ]
  }
 ],
 "metadata": {
  "kernelspec": {
   "display_name": "Python 3 (ipykernel)",
   "language": "python",
   "name": "python3"
  },
  "language_info": {
   "codemirror_mode": {
    "name": "ipython",
    "version": 3
   },
   "file_extension": ".py",
   "mimetype": "text/x-python",
   "name": "python",
   "nbconvert_exporter": "python",
   "pygments_lexer": "ipython3",
   "version": "3.11.8"
  }
 },
 "nbformat": 4,
 "nbformat_minor": 4
}
