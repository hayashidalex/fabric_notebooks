{
  "metadata": {
    "kernelspec": {
      "name": "python",
      "display_name": "Python (Pyodide)",
      "language": "python"
    },
    "language_info": {
      "codemirror_mode": {
        "name": "ipython",
        "version": 3
      },
      "file_extension": ".py",
      "mimetype": "text/x-python",
      "name": "python",
      "nbconvert_exporter": "python",
      "pygments_lexer": "ipython3",
      "version": "3.10.6"
    }
  },
  "nbformat_minor": 5,
  "nbformat": 4,
  "cells": [
    {
      "id": "c7910493-9c43-4f47-8364-f2d9fac60158",
      "cell_type": "markdown",
      "source": "# OWL-DEV Run OWL with Local owl and Dockerfile image",
      "metadata": {}
    },
    {
      "id": "a89c9e50-4318-45b0-9aec-976b6d6fd0bd",
      "cell_type": "code",
      "source": "import mflib \nfrom mflib.mflib import MFLib\nfrom fabrictestbed_extensions.fablib.fablib import FablibManager as fablib_manager\nimport owl as owl\n#from mflib import owl as owl",
      "metadata": {},
      "outputs": [],
      "execution_count": null
    },
    {
      "id": "15627864-a3e5-4054-a10d-d633ef42e244",
      "cell_type": "code",
      "source": "print(f\"mflib version  {mflib.__version__} \" )",
      "metadata": {
        "trusted": true
      },
      "outputs": [],
      "execution_count": null
    },
    {
      "id": "eeb2ce24-328c-4407-bdb5-b1ec30026995",
      "cell_type": "markdown",
      "source": "## List slices",
      "metadata": {}
    },
    {
      "id": "b8b78c12-e6c5-4d7e-b877-d2957b30a943",
      "cell_type": "code",
      "source": "fm = fablib_manager()\nfm.list_slices()",
      "metadata": {},
      "outputs": [],
      "execution_count": null
    },
    {
      "id": "895627b5-0fa7-4c3b-b7fb-cf3ed9bc964e",
      "cell_type": "markdown",
      "source": "## Get slice",
      "metadata": {}
    },
    {
      "id": "fe3c3859-7ab2-4935-abff-5fecf3b33834",
      "cell_type": "code",
      "source": "%%time\n\nslice_name = \"test_slice\"\n\ntry:\n    slice = fablib.get_slice(name=slice_name)\nexcept Exception as e:\n    print(f\"Fail: {e}\")\nprint(slice)",
      "metadata": {},
      "outputs": [],
      "execution_count": null
    },
    {
      "id": "3e24fa92-a8b1-4248-b259-d2b481d9d12e",
      "cell_type": "markdown",
      "source": "## Enter the docker image name",
      "metadata": {}
    },
    {
      "id": "96b993c8-c63e-4fc2-a950-4845856407e0",
      "cell_type": "code",
      "source": "image_name=\"owl-test:latest\"\nnodes = slice.get_nodes()\n\n# Pull the latest OWL image from Dockerhub if not using a Dockerfile\n# for node in nodes:\n#     print(node.get_name())\n#     node.execute(f\"sudo docker pull {image_name}\") ",
      "metadata": {},
      "outputs": [],
      "execution_count": null
    },
    {
      "id": "a0e08059-f826-46d7-8a67-62a6f027c861",
      "cell_type": "markdown",
      "source": "## Try using start_owl_all",
      "metadata": {}
    },
    {
      "id": "4e042841-3b63-4aff-ae1a-bd713c6ee60b",
      "cell_type": "markdown",
      "source": "owl.start_owl_all(slice, img_name=image_name, probe_freq=5, duration=None, delete_previous=True)",
      "metadata": {}
    },
    {
      "id": "3d1b322e-508d-468c-9976-9fe3dc8ebac7",
      "cell_type": "markdown",
      "source": "## If the method above doesn't work, try the following",
      "metadata": {
        "tags": []
      }
    },
    {
      "id": "c3a3fecb-6969-4b83-9b19-c54999ec7770",
      "cell_type": "markdown",
      "source": "### Run Packet Captures",
      "metadata": {}
    },
    {
      "id": "2068618f-ee4c-4a00-9071-cdc03b70c5cc",
      "cell_type": "markdown",
      "source": "#### Start Capturer containers",
      "metadata": {}
    },
    {
      "id": "33d04a04-09e2-4d52-8e46-cdd61ec58a14",
      "cell_type": "code",
      "source": "# for node in nodes:\n#     owl.start_owl_capturer(slice, dst_node=node, img_name=image_name, duration=30)",
      "metadata": {},
      "outputs": [],
      "execution_count": null
    },
    {
      "id": "0a89611a-9927-4a1e-99aa-4c1f2272617d",
      "cell_type": "markdown",
      "source": "### Start Sender containers",
      "metadata": {}
    },
    {
      "id": "124f9add-47c0-43dd-926b-cb8559a00e83",
      "cell_type": "code",
      "source": "# for src_node in nodes:\n#     for dst_node in nodes:\n#         if dst_node.get_name() != src_node.get_name():\n#             print(f\"{src_node.get_name()} --> {dst_node.get_name()}\")\n#             owl.start_owl_sender(slice, src_node=src_node, dst_node=dst_node, img_name=image_name, duration=86400)",
      "metadata": {},
      "outputs": [],
      "execution_count": null
    },
    {
      "id": "8ee126e9-eaa7-4758-b682-86b696a7b1f8",
      "cell_type": "markdown",
      "source": "## Check the status of containers",
      "metadata": {}
    },
    {
      "id": "01df62d4-baaf-4577-8949-f82750bdef87",
      "cell_type": "code",
      "source": "owl.check_owl_all(slice)",
      "metadata": {},
      "outputs": [],
      "execution_count": null
    },
    {
      "id": "e9097124-72b5-47ed-88d1-0d1667aacba8",
      "cell_type": "markdown",
      "source": "## Check if pcap files are being generated",
      "metadata": {}
    },
    {
      "id": "dd47d1dc-e5a8-4e78-afa5-7028455fa86c",
      "cell_type": "code",
      "source": "for node in nodes:\n    node.execute(\"ls -lh ~/owl-output/\")",
      "metadata": {
        "trusted": true
      },
      "outputs": [],
      "execution_count": null
    },
    {
      "id": "4e2e9b80-88ad-43b5-8fc1-ad8d469e130a",
      "cell_type": "markdown",
      "source": "## Stop all of them",
      "metadata": {}
    },
    {
      "id": "d5ab2c59-2159-4c91-99fc-ae08c33305d7",
      "cell_type": "code",
      "source": "owl.stop_owl_all(slice)",
      "metadata": {},
      "outputs": [],
      "execution_count": null
    },
    {
      "id": "f7d4acc7-5af9-4880-b617-ce950747f280",
      "cell_type": "code",
      "source": "",
      "metadata": {},
      "outputs": [],
      "execution_count": null
    }
  ]
}