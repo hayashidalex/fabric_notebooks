{
 "cells": [
  {
   "cell_type": "markdown",
   "id": "c7910493-9c43-4f47-8364-f2d9fac60158",
   "metadata": {},
   "source": [
    "# OWL-DEV Run OWL with Local owl and Dockerfile image"
   ]
  },
  {
   "cell_type": "code",
   "execution_count": null,
   "id": "a89c9e50-4318-45b0-9aec-976b6d6fd0bd",
   "metadata": {},
   "outputs": [],
   "source": [
    "import os\n",
    "import json\n",
    "import traceback\n",
    "import mflib \n",
    "print(f\"mflib version  {mflib.__version__} \" )\n",
    "from mflib.mflib import MFLib\n",
    "import fabrictestbed_extensions\n",
    "from fabrictestbed_extensions.fablib.fablib import fablib\n",
    "import owl as owl"
   ]
  },
  {
   "cell_type": "code",
   "execution_count": null,
   "id": "b8b78c12-e6c5-4d7e-b877-d2957b30a943",
   "metadata": {},
   "outputs": [],
   "source": []
  },
  {
   "cell_type": "markdown",
   "id": "895627b5-0fa7-4c3b-b7fb-cf3ed9bc964e",
   "metadata": {},
   "source": [
    "## Get slice"
   ]
  },
  {
   "cell_type": "code",
   "execution_count": null,
   "id": "fe3c3859-7ab2-4935-abff-5fecf3b33834",
   "metadata": {},
   "outputs": [],
   "source": [
    "%%time\n",
    "\n",
    "slice_name = \"test_slice\"\n",
    "\n",
    "try:\n",
    "    slice = fablib.get_slice(name=slice_name)\n",
    "except Exception as e:\n",
    "    print(f\"Fail: {e}\")\n",
    "print(slice)"
   ]
  },
  {
   "cell_type": "markdown",
   "id": "3e24fa92-a8b1-4248-b259-d2b481d9d12e",
   "metadata": {},
   "source": [
    "## Enter the docker image name"
   ]
  },
  {
   "cell_type": "code",
   "execution_count": null,
   "id": "96b993c8-c63e-4fc2-a950-4845856407e0",
   "metadata": {},
   "outputs": [],
   "source": [
    "# Pull the latest OWL image from Dockerhub\n",
    "image_name=\"owl-test:latest\"\n",
    "nodes = slice.get_nodes()\n",
    "\n",
    "# for node in nodes:\n",
    "#     print(node.get_name())\n",
    "#     node.execute(f\"sudo docker pull {image_name}\") "
   ]
  },
  {
   "cell_type": "markdown",
   "id": "a0e08059-f826-46d7-8a67-62a6f027c861",
   "metadata": {},
   "source": [
    "## Try using start_owl_all"
   ]
  },
  {
   "cell_type": "code",
   "execution_count": null,
   "id": "45f01836-dbd0-4033-a1b3-a8f44e103145",
   "metadata": {},
   "outputs": [],
   "source": [
    "owl.start_owl_all(slice, img_name=image_name, probe_freq=5, duration=None, delete_previous=True)"
   ]
  },
  {
   "cell_type": "markdown",
   "id": "3d1b322e-508d-468c-9976-9fe3dc8ebac7",
   "metadata": {
    "tags": []
   },
   "source": [
    "## If the method above doesn't work, try the following"
   ]
  },
  {
   "cell_type": "markdown",
   "id": "c3a3fecb-6969-4b83-9b19-c54999ec7770",
   "metadata": {},
   "source": [
    "### Run Packet Captures"
   ]
  },
  {
   "cell_type": "markdown",
   "id": "2068618f-ee4c-4a00-9071-cdc03b70c5cc",
   "metadata": {},
   "source": [
    "#### Start Capturer containers"
   ]
  },
  {
   "cell_type": "code",
   "execution_count": null,
   "id": "33d04a04-09e2-4d52-8e46-cdd61ec58a14",
   "metadata": {},
   "outputs": [],
   "source": [
    "# for node in nodes:\n",
    "#     owl.start_owl_capturer(slice, dst_node=node, img_name=image_name, duration=30)"
   ]
  },
  {
   "cell_type": "markdown",
   "id": "0a89611a-9927-4a1e-99aa-4c1f2272617d",
   "metadata": {},
   "source": [
    "### Start Sender containers"
   ]
  },
  {
   "cell_type": "code",
   "execution_count": null,
   "id": "124f9add-47c0-43dd-926b-cb8559a00e83",
   "metadata": {},
   "outputs": [],
   "source": [
    "# for src_node in nodes:\n",
    "#     for dst_node in nodes:\n",
    "#         if dst_node.get_name() != src_node.get_name():\n",
    "#             print(f\"{src_node.get_name()} --> {dst_node.get_name()}\")\n",
    "#             owl.start_owl_sender(slice, src_node=src_node, dst_node=dst_node, img_name=image_name, duration=86400)"
   ]
  },
  {
   "cell_type": "markdown",
   "id": "8ee126e9-eaa7-4758-b682-86b696a7b1f8",
   "metadata": {},
   "source": [
    "## Check the status of containers"
   ]
  },
  {
   "cell_type": "code",
   "execution_count": null,
   "id": "01df62d4-baaf-4577-8949-f82750bdef87",
   "metadata": {},
   "outputs": [],
   "source": [
    "owl.check_owl_all(slice)"
   ]
  },
  {
   "cell_type": "markdown",
   "id": "4e2e9b80-88ad-43b5-8fc1-ad8d469e130a",
   "metadata": {},
   "source": [
    "## Stop all of them"
   ]
  },
  {
   "cell_type": "code",
   "execution_count": null,
   "id": "d5ab2c59-2159-4c91-99fc-ae08c33305d7",
   "metadata": {},
   "outputs": [],
   "source": [
    "owl.stop_owl_all(slice)"
   ]
  },
  {
   "cell_type": "code",
   "execution_count": null,
   "id": "f7d4acc7-5af9-4880-b617-ce950747f280",
   "metadata": {},
   "outputs": [],
   "source": []
  }
 ],
 "metadata": {
  "kernelspec": {
   "display_name": "Python 3 (ipykernel)",
   "language": "python",
   "name": "python3"
  },
  "language_info": {
   "codemirror_mode": {
    "name": "ipython",
    "version": 3
   },
   "file_extension": ".py",
   "mimetype": "text/x-python",
   "name": "python",
   "nbconvert_exporter": "python",
   "pygments_lexer": "ipython3",
   "version": "3.10.6"
  }
 },
 "nbformat": 4,
 "nbformat_minor": 5
}
