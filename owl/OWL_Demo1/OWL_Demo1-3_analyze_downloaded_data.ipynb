{
 "cells": [
  {
   "cell_type": "markdown",
   "id": "a057b8cd-52da-42bb-b330-7575ca59b570",
   "metadata": {},
   "source": [
    "# OWL_Demo1 Analyze Downloaded Data"
   ]
  },
  {
   "cell_type": "markdown",
   "id": "756a2077-71b2-4765-827b-3d7612a83ca7",
   "metadata": {},
   "source": [
    "# First things first (Install necessary packages)"
   ]
  },
  {
   "cell_type": "markdown",
   "id": "95b6bd08-354a-4c5a-b44b-476aa221c978",
   "metadata": {},
   "source": [
    "### Install scapy for extracting data from `*.pcap` files"
   ]
  },
  {
   "cell_type": "code",
   "execution_count": null,
   "id": "d6fc70b6-9bbc-4642-bf39-d5aa8fbf8117",
   "metadata": {},
   "outputs": [],
   "source": [
    "!conda install -y --quiet -c conda-forge scapy"
   ]
  },
  {
   "cell_type": "markdown",
   "id": "82dcb46c-0724-4929-8aa0-0074c55f1d9d",
   "metadata": {},
   "source": [
    "### Standard imports"
   ]
  },
  {
   "cell_type": "code",
   "execution_count": null,
   "id": "dd3c6d0f-449c-43b1-b489-b0fcced60040",
   "metadata": {},
   "outputs": [],
   "source": [
    "from pathlib import Path\n",
    "import pandas as pd\n",
    "\n",
    "#from mflib import owl_data\n",
    "import owl_data  # For testing local file only"
   ]
  },
  {
   "cell_type": "markdown",
   "id": "62e616ef-2752-4795-9a1e-f80abae504e5",
   "metadata": {},
   "source": [
    "# CSV File path where parsed data are (will be) saved"
   ]
  },
  {
   "cell_type": "code",
   "execution_count": null,
   "id": "6041359d-44c5-4eb6-aee0-d0cef12bcc64",
   "metadata": {},
   "outputs": [],
   "source": [
    "# Output file name\n",
    "csv_path = './data.csv'"
   ]
  },
  {
   "cell_type": "markdown",
   "id": "7de578b2-17a9-460c-a16f-7911b6b22f71",
   "metadata": {},
   "source": [
    "# (If CSV file not yet generated) Parse pcap files and save in one combined CSV file\n",
    "\n",
    "You will need\n",
    "- location of local `*.pcap` files. (Method below will look for pcap files recursively from the location.)\n",
    "- output (csv) file name "
   ]
  },
  {
   "cell_type": "code",
   "execution_count": null,
   "id": "de4b9186-351a-450a-8961-1d0b8e013592",
   "metadata": {},
   "outputs": [],
   "source": [
    "root_data_dir = './'"
   ]
  },
  {
   "cell_type": "markdown",
   "id": "7563b213-4b9b-4e59-8122-f62638e7e867",
   "metadata": {},
   "source": [
    "List all the .pcap files under the root data dir (recursive search)"
   ]
  },
  {
   "cell_type": "code",
   "execution_count": null,
   "id": "56a4c8ac-63ba-49d4-aef7-6de245689014",
   "metadata": {},
   "outputs": [],
   "source": [
    "pcap_files = owl_data.list_pcap_files(root_data_dir)\n",
    "print(f\"Found pcap files: {[str(p) for p in pcap_files]}\")"
   ]
  },
  {
   "cell_type": "markdown",
   "id": "ad12ac0a-9ba7-4581-acc1-88ce0968e33b",
   "metadata": {},
   "source": [
    "### Extract entries from PCAP and add to the csv file\n",
    "\n",
    "Args:\n",
    "\n",
    "- `pcap_files`: list of pcap file paths\n",
    "- `outfile (default=\"out.csv\")`: path to output csv file\n",
    "- `append_csv (default=False)`: if set to True, append to the existing csv file of the same name; if False, it will warn and exit in case there is already a csv file of the same name.\n",
    "- `verbose (default=False)`: if True, it will print out the content of pcap files during the extraction process\n",
    "\n",
    "Output CSV file should have 6 columns:\n",
    "- source IP\n",
    "- sent timestamp (epoch time)\n",
    "- destination IP\n",
    "- destinatin timestamp (epoch time)\n",
    "- sequence number\n",
    "- latency"
   ]
  },
  {
   "cell_type": "code",
   "execution_count": null,
   "id": "40f1b040-0c71-4337-bb7e-243041189978",
   "metadata": {},
   "outputs": [],
   "source": [
    "owl_data.convert_pcap_to_csv(pcap_files, outfile=csv_path)"
   ]
  },
  {
   "cell_type": "markdown",
   "id": "12f53210-1b6c-4090-9d55-05ac94209645",
   "metadata": {},
   "source": [
    "# Analyze Latency Data "
   ]
  },
  {
   "cell_type": "markdown",
   "id": "5d335c19-3aed-4c6a-b288-c8c1dee2b283",
   "metadata": {},
   "source": [
    "## Create a pandas DataFrame from the csv file (incl. data cleansing)"
   ]
  },
  {
   "cell_type": "code",
   "execution_count": null,
   "id": "ce923479-de24-42e9-908a-82eb17e602a1",
   "metadata": {},
   "outputs": [],
   "source": [
    "df = owl_data.convert_to_df(csv_path)\n",
    "df.head()"
   ]
  },
  {
   "cell_type": "markdown",
   "id": "c9f337ac-7179-4801-9a9e-d48ab1771191",
   "metadata": {},
   "source": [
    "## Example 1: Get latency data between two nodes"
   ]
  },
  {
   "cell_type": "code",
   "execution_count": null,
   "id": "5b3472ab-b8ed-40ef-97c3-f304e2f5eeb1",
   "metadata": {},
   "outputs": [],
   "source": [
    "from fabrictestbed_extensions.fablib.fablib import FablibManager as fablib_manager\n",
    "\n",
    "fablib = fablib_manager()\n",
    "slice_name = \"test-slice\"\n",
    "\n",
    "try:\n",
    "    slice = fablib.get_slice(name=slice_name)  \n",
    "except Exception as e:\n",
    "    print(f\"Exception: {e}\")\n",
    "\n",
    "node0 = slice.get_node(name=\"node0\")\n",
    "node1 = slice.get_node(name=\"node1\")\n",
    "node2 = slice.get_node(name=\"node2\")"
   ]
  },
  {
   "cell_type": "code",
   "execution_count": null,
   "id": "47ff1310-fdcf-43bc-860d-93b5d1a46a58",
   "metadata": {},
   "outputs": [],
   "source": [
    "owl_data.get_summary(df, node1, node2)"
   ]
  },
  {
   "cell_type": "markdown",
   "id": "414cb72d-6b6c-4717-aa04-c9eec4b69348",
   "metadata": {
    "tags": []
   },
   "source": [
    "## Eample 2: Filter data when IP addresses are known"
   ]
  },
  {
   "cell_type": "code",
   "execution_count": null,
   "id": "3008c7b0-7fc7-444f-af37-94d39935ad47",
   "metadata": {},
   "outputs": [],
   "source": [
    "src_ip = \"10.131.132.2\"\n",
    "dst_ip = \"10.143.4.2\"\n",
    "\n",
    "filtered_df = owl_data.filter_data(df, src_ip, dst_ip)\n",
    "filtered_df.head()"
   ]
  },
  {
   "cell_type": "markdown",
   "id": "298f33a1-f7c6-4a7e-9704-3e33ebf2d8ed",
   "metadata": {
    "tags": []
   },
   "source": [
    "## Example 3: Graph Latency data \n",
    "\n",
    "Requires additional package installation"
   ]
  },
  {
   "cell_type": "code",
   "execution_count": null,
   "id": "df3ec86f-2ccd-4ea7-956f-36f85eac3f3a",
   "metadata": {},
   "outputs": [],
   "source": [
    "!conda install -y --quiet -c conda-forge -c plotly jupyter-dash"
   ]
  },
  {
   "cell_type": "code",
   "execution_count": null,
   "id": "4eb15ee9-6914-4e60-804f-b0c3e0d2dbd6",
   "metadata": {},
   "outputs": [],
   "source": [
    "owl_data.graph_latency_data(df, node0, node1)"
   ]
  },
  {
   "cell_type": "code",
   "execution_count": null,
   "id": "8748c7ba-2295-4654-ab3d-fc0130e90f3e",
   "metadata": {},
   "outputs": [],
   "source": []
  }
 ],
 "metadata": {
  "kernelspec": {
   "display_name": "Python 3 (ipykernel)",
   "language": "python",
   "name": "python3"
  },
  "language_info": {
   "codemirror_mode": {
    "name": "ipython",
    "version": 3
   },
   "file_extension": ".py",
   "mimetype": "text/x-python",
   "name": "python",
   "nbconvert_exporter": "python",
   "pygments_lexer": "ipython3",
   "version": "3.10.6"
  }
 },
 "nbformat": 4,
 "nbformat_minor": 5
}
