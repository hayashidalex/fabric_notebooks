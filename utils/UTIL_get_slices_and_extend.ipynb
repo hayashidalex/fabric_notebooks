{
 "cells": [
  {
   "cell_type": "code",
   "execution_count": null,
   "id": "19ea2201-35f6-4d0e-a188-f6623d82237e",
   "metadata": {},
   "outputs": [],
   "source": [
    "from fabrictestbed_extensions.fablib.fablib import FablibManager as fablib_manager"
   ]
  },
  {
   "cell_type": "code",
   "execution_count": null,
   "id": "5ff12aa3-8cf4-4cc7-b161-826f5818b4fa",
   "metadata": {},
   "outputs": [],
   "source": [
    "\n",
    "try: \n",
    "    fablib = fablib_manager()\n",
    "                     \n",
    "    fablib.show_config()\n",
    "except Exception as e:\n",
    "    print(f\"Exception: {e}\")"
   ]
  },
  {
   "cell_type": "code",
   "execution_count": null,
   "id": "2651db48-cc7c-4033-9841-d0ab409312ba",
   "metadata": {},
   "outputs": [],
   "source": [
    "try:\n",
    "    for slice in fablib.get_slices():\n",
    "        print(f\"{slice}\")\n",
    "except Exception as e:\n",
    "    print(f\"Exception: {e}\")"
   ]
  },
  {
   "cell_type": "markdown",
   "id": "fec00ec2-181d-432f-bcc0-2267bdf74671",
   "metadata": {},
   "source": [
    "# Extend the slice expiration"
   ]
  },
  {
   "cell_type": "code",
   "execution_count": null,
   "id": "028839fb-3918-413a-9b9c-c885a2fa0c6b",
   "metadata": {},
   "outputs": [],
   "source": [
    "slice_name=\"latency_monitoring_MF_slice\""
   ]
  },
  {
   "cell_type": "code",
   "execution_count": null,
   "id": "ca9c4578-61c1-4790-a09b-51e345c3cb34",
   "metadata": {},
   "outputs": [],
   "source": [
    "\n",
    "import datetime\n",
    "\n",
    "\n",
    "#Extend slice\n",
    "end_date = (datetime.datetime.now().astimezone() + datetime.timedelta(days=14)).strftime(\"%Y-%m-%d %H:%M:%S %z\")\n",
    "\n",
    "try:\n",
    "    slice = fablib.get_slice(name=slice_name)\n",
    "    slice.renew(end_date)\n",
    "except Exception as e:\n",
    "    print(f\"Exception: {e}\")"
   ]
  },
  {
   "cell_type": "code",
   "execution_count": null,
   "id": "52b48c67-390a-4645-abbe-2759b48b7c3e",
   "metadata": {},
   "outputs": [],
   "source": [
    "try:\n",
    "    slice = fablib.get_slice(name=slice_name)\n",
    "    print(f\"Lease End         : {slice.get_lease_end()}\")\n",
    "       \n",
    "except Exception as e:\n",
    "    print(f\"Exception: {e}\")"
   ]
  },
  {
   "cell_type": "markdown",
   "id": "9cc7ba0b-cd02-4ab6-ba21-35ff639fa263",
   "metadata": {},
   "source": [
    "## Delete Slice\n",
    "\n",
    "If you plan to go to other notebooks that use an instrumentized slice then keep the slice up. \n",
    "Otherwise you can uncomment out the next section to delete the slice."
   ]
  },
  {
   "cell_type": "code",
   "execution_count": null,
   "id": "c4bc9e09-fe29-4a02-bea5-8fad738f3607",
   "metadata": {},
   "outputs": [],
   "source": [
    "#slice_name = \"PTP_slice\"\n",
    "\n",
    "try:\n",
    "     slice = fablib.get_slice(name=slice_name)\n",
    "     slice.delete()\n",
    "except Exception as e:\n",
    "     print(f\"Fail: {e}\")\n",
    "     traceback.print_exc()"
   ]
  },
  {
   "cell_type": "code",
   "execution_count": null,
   "id": "fed7d62b-c814-44db-b0c1-dc865a8a17d6",
   "metadata": {},
   "outputs": [],
   "source": []
  },
  {
   "cell_type": "code",
   "execution_count": null,
   "id": "47577e63-de75-405b-81ea-c825b340bddb",
   "metadata": {},
   "outputs": [],
   "source": []
  }
 ],
 "metadata": {
  "kernelspec": {
   "display_name": "Python 3 (ipykernel)",
   "language": "python",
   "name": "python3"
  },
  "language_info": {
   "codemirror_mode": {
    "name": "ipython",
    "version": 3
   },
   "file_extension": ".py",
   "mimetype": "text/x-python",
   "name": "python",
   "nbconvert_exporter": "python",
   "pygments_lexer": "ipython3",
   "version": "3.10.6"
  }
 },
 "nbformat": 4,
 "nbformat_minor": 5
}
