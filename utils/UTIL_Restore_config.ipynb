{
 "cells": [
  {
   "cell_type": "markdown",
   "id": "fced16a6-fda9-4877-ad3c-1765ec0c4c87",
   "metadata": {},
   "source": [
    "# Restore Config (used for a lost dataplane IP)\n",
    "\n",
    "When a node went down, the dataplane IP address was lost. This simple script restores it."
   ]
  },
  {
   "cell_type": "code",
   "execution_count": 1,
   "id": "c1497293-dbdf-4a1f-8783-bfc5ec067624",
   "metadata": {},
   "outputs": [
    {
     "data": {
      "text/html": [
       "<style type=\"text/css\">\n",
       "#T_994b5 tr:nth-child(even) {\n",
       "  background: #dbf3ff;\n",
       "  color: #231f20;\n",
       "}\n",
       "#T_994b5 tr:nth-child(odd) {\n",
       "  background: #ffffff;\n",
       "  color: #231f20;\n",
       "}\n",
       "#T_994b5 caption {\n",
       "  text-align: center;\n",
       "  font-size: 150%;\n",
       "}\n",
       "#T_994b5_row0_col0, #T_994b5_row0_col1, #T_994b5_row1_col0, #T_994b5_row1_col1, #T_994b5_row2_col0, #T_994b5_row2_col1, #T_994b5_row3_col0, #T_994b5_row3_col1, #T_994b5_row4_col0, #T_994b5_row4_col1, #T_994b5_row5_col0, #T_994b5_row5_col1, #T_994b5_row6_col0, #T_994b5_row6_col1, #T_994b5_row7_col0, #T_994b5_row7_col1, #T_994b5_row8_col0, #T_994b5_row8_col1, #T_994b5_row9_col0, #T_994b5_row9_col1, #T_994b5_row10_col0, #T_994b5_row10_col1, #T_994b5_row11_col0, #T_994b5_row11_col1, #T_994b5_row12_col0, #T_994b5_row12_col1, #T_994b5_row13_col0, #T_994b5_row13_col1, #T_994b5_row14_col0, #T_994b5_row14_col1, #T_994b5_row15_col0, #T_994b5_row15_col1, #T_994b5_row16_col0, #T_994b5_row16_col1 {\n",
       "  text-align: left;\n",
       "  border: 1px #231f20 solid !important;\n",
       "  overwrite: False;\n",
       "}\n",
       "</style>\n",
       "<table id=\"T_994b5\">\n",
       "  <caption>FABlib Config</caption>\n",
       "  <thead>\n",
       "  </thead>\n",
       "  <tbody>\n",
       "    <tr>\n",
       "      <td id=\"T_994b5_row0_col0\" class=\"data row0 col0\" >Credential Manager</td>\n",
       "      <td id=\"T_994b5_row0_col1\" class=\"data row0 col1\" >cm.fabric-testbed.net</td>\n",
       "    </tr>\n",
       "    <tr>\n",
       "      <td id=\"T_994b5_row1_col0\" class=\"data row1 col0\" >Orchestrator</td>\n",
       "      <td id=\"T_994b5_row1_col1\" class=\"data row1 col1\" >orchestrator.fabric-testbed.net</td>\n",
       "    </tr>\n",
       "    <tr>\n",
       "      <td id=\"T_994b5_row2_col0\" class=\"data row2 col0\" >Project ID</td>\n",
       "      <td id=\"T_994b5_row2_col1\" class=\"data row2 col1\" >7a5adb91-c4c0-4a1c-8021-7b6c56af196f</td>\n",
       "    </tr>\n",
       "    <tr>\n",
       "      <td id=\"T_994b5_row3_col0\" class=\"data row3 col0\" >Token File</td>\n",
       "      <td id=\"T_994b5_row3_col1\" class=\"data row3 col1\" >/home/fabric/.tokens.json</td>\n",
       "    </tr>\n",
       "    <tr>\n",
       "      <td id=\"T_994b5_row4_col0\" class=\"data row4 col0\" >Bastion Host</td>\n",
       "      <td id=\"T_994b5_row4_col1\" class=\"data row4 col1\" >bastion.fabric-testbed.net</td>\n",
       "    </tr>\n",
       "    <tr>\n",
       "      <td id=\"T_994b5_row5_col0\" class=\"data row5 col0\" >Bastion Username</td>\n",
       "      <td id=\"T_994b5_row5_col1\" class=\"data row5 col1\" >mami_hayashida_0047831601</td>\n",
       "    </tr>\n",
       "    <tr>\n",
       "      <td id=\"T_994b5_row6_col0\" class=\"data row6 col0\" >Bastion Private Key File</td>\n",
       "      <td id=\"T_994b5_row6_col1\" class=\"data row6 col1\" >/home/fabric/work/fabric_config/fabric_bastion_key</td>\n",
       "    </tr>\n",
       "    <tr>\n",
       "      <td id=\"T_994b5_row7_col0\" class=\"data row7 col0\" >Slice Private Key File</td>\n",
       "      <td id=\"T_994b5_row7_col1\" class=\"data row7 col1\" >/home/fabric/work/fabric_config/slice_key</td>\n",
       "    </tr>\n",
       "    <tr>\n",
       "      <td id=\"T_994b5_row8_col0\" class=\"data row8 col0\" >Slice Public Key File</td>\n",
       "      <td id=\"T_994b5_row8_col1\" class=\"data row8 col1\" >/home/fabric/work/fabric_config/slice_key.pub</td>\n",
       "    </tr>\n",
       "    <tr>\n",
       "      <td id=\"T_994b5_row9_col0\" class=\"data row9 col0\" >Log File</td>\n",
       "      <td id=\"T_994b5_row9_col1\" class=\"data row9 col1\" >/tmp/fablib/fablib.log</td>\n",
       "    </tr>\n",
       "    <tr>\n",
       "      <td id=\"T_994b5_row10_col0\" class=\"data row10 col0\" >Log Level</td>\n",
       "      <td id=\"T_994b5_row10_col1\" class=\"data row10 col1\" >INFO</td>\n",
       "    </tr>\n",
       "    <tr>\n",
       "      <td id=\"T_994b5_row11_col0\" class=\"data row11 col0\" >Sites to avoid</td>\n",
       "      <td id=\"T_994b5_row11_col1\" class=\"data row11 col1\" ></td>\n",
       "    </tr>\n",
       "    <tr>\n",
       "      <td id=\"T_994b5_row12_col0\" class=\"data row12 col0\" >SSH Command Line</td>\n",
       "      <td id=\"T_994b5_row12_col1\" class=\"data row12 col1\" >ssh -i {{ _self_.private_ssh_key_file }} -F /home/fabric/work/fabric_config/ssh_config {{ _self_.username }}@{{ _self_.management_ip }}</td>\n",
       "    </tr>\n",
       "    <tr>\n",
       "      <td id=\"T_994b5_row13_col0\" class=\"data row13 col0\" >Version</td>\n",
       "      <td id=\"T_994b5_row13_col1\" class=\"data row13 col1\" >1.6.2</td>\n",
       "    </tr>\n",
       "    <tr>\n",
       "      <td id=\"T_994b5_row14_col0\" class=\"data row14 col0\" >Data directory</td>\n",
       "      <td id=\"T_994b5_row14_col1\" class=\"data row14 col1\" >/tmp/fablib</td>\n",
       "    </tr>\n",
       "    <tr>\n",
       "      <td id=\"T_994b5_row15_col0\" class=\"data row15 col0\" >Core API</td>\n",
       "      <td id=\"T_994b5_row15_col1\" class=\"data row15 col1\" >uis.fabric-testbed.net</td>\n",
       "    </tr>\n",
       "    <tr>\n",
       "      <td id=\"T_994b5_row16_col0\" class=\"data row16 col0\" >Bastion SSH Config File</td>\n",
       "      <td id=\"T_994b5_row16_col1\" class=\"data row16 col1\" >/home/fabric/work/fabric_config/ssh_config</td>\n",
       "    </tr>\n",
       "  </tbody>\n",
       "</table>\n"
      ],
      "text/plain": [
       "<pandas.io.formats.style.Styler at 0x7f02e2ca05e0>"
      ]
     },
     "metadata": {},
     "output_type": "display_data"
    }
   ],
   "source": [
    "from fabrictestbed_extensions.fablib.fablib import FablibManager as fablib_manager\n",
    "\n",
    "try:\n",
    "    fm = fablib_manager()\n",
    "                     \n",
    "    fm.show_config()\n",
    "except Exception as e:\n",
    "    print(f\"Exception: {e}\")"
   ]
  },
  {
   "cell_type": "code",
   "execution_count": 6,
   "id": "96a8c047-e657-4d79-a7f0-d1293a182e6a",
   "metadata": {},
   "outputs": [],
   "source": [
    "slice_name = \"latency_monitoring_slice\"\n",
    "slice = fm.get_slice(name=slice_name)"
   ]
  },
  {
   "cell_type": "code",
   "execution_count": 7,
   "id": "3f103d7e-34e8-4fc6-a45b-a4f718548b83",
   "metadata": {},
   "outputs": [
    {
     "data": {
      "text/html": [
       "<style type=\"text/css\">\n",
       "#T_42b1e tr:nth-child(even) {\n",
       "  background: #dbf3ff;\n",
       "  color: #231f20;\n",
       "}\n",
       "#T_42b1e tr:nth-child(odd) {\n",
       "  background: #ffffff;\n",
       "  color: #231f20;\n",
       "}\n",
       "#T_42b1e caption {\n",
       "  text-align: center;\n",
       "  font-size: 150%;\n",
       "}\n",
       "#T_42b1e_row0_col0, #T_42b1e_row0_col1, #T_42b1e_row1_col0, #T_42b1e_row1_col1, #T_42b1e_row2_col0, #T_42b1e_row2_col1, #T_42b1e_row3_col0, #T_42b1e_row3_col1, #T_42b1e_row4_col0, #T_42b1e_row4_col1, #T_42b1e_row5_col0, #T_42b1e_row5_col1 {\n",
       "  text-align: left;\n",
       "  border: 1px #231f20 solid !important;\n",
       "  overwrite: False;\n",
       "}\n",
       "</style>\n",
       "<table id=\"T_42b1e\">\n",
       "  <caption>Slice</caption>\n",
       "  <thead>\n",
       "  </thead>\n",
       "  <tbody>\n",
       "    <tr>\n",
       "      <td id=\"T_42b1e_row0_col0\" class=\"data row0 col0\" >ID</td>\n",
       "      <td id=\"T_42b1e_row0_col1\" class=\"data row0 col1\" >bf124347-9e91-4ac2-9bcd-a3623b0a3d5e</td>\n",
       "    </tr>\n",
       "    <tr>\n",
       "      <td id=\"T_42b1e_row1_col0\" class=\"data row1 col0\" >Name</td>\n",
       "      <td id=\"T_42b1e_row1_col1\" class=\"data row1 col1\" >latency_monitoring_slice</td>\n",
       "    </tr>\n",
       "    <tr>\n",
       "      <td id=\"T_42b1e_row2_col0\" class=\"data row2 col0\" >Lease Expiration (UTC)</td>\n",
       "      <td id=\"T_42b1e_row2_col1\" class=\"data row2 col1\" >2024-02-08 20:52:29 +0000</td>\n",
       "    </tr>\n",
       "    <tr>\n",
       "      <td id=\"T_42b1e_row3_col0\" class=\"data row3 col0\" >Lease Start (UTC)</td>\n",
       "      <td id=\"T_42b1e_row3_col1\" class=\"data row3 col1\" >2024-01-12 17:18:37 +0000</td>\n",
       "    </tr>\n",
       "    <tr>\n",
       "      <td id=\"T_42b1e_row4_col0\" class=\"data row4 col0\" >Project ID</td>\n",
       "      <td id=\"T_42b1e_row4_col1\" class=\"data row4 col1\" >7a5adb91-c4c0-4a1c-8021-7b6c56af196f</td>\n",
       "    </tr>\n",
       "    <tr>\n",
       "      <td id=\"T_42b1e_row5_col0\" class=\"data row5 col0\" >State</td>\n",
       "      <td id=\"T_42b1e_row5_col1\" class=\"data row5 col1\" >StableOK</td>\n",
       "    </tr>\n",
       "  </tbody>\n",
       "</table>\n"
      ],
      "text/plain": [
       "<pandas.io.formats.style.Styler at 0x7f02c0635e40>"
      ]
     },
     "metadata": {},
     "output_type": "display_data"
    },
    {
     "data": {
      "text/html": [
       "<style type=\"text/css\">\n",
       "#T_42b1e tr:nth-child(even) {\n",
       "  background: #dbf3ff;\n",
       "  color: #231f20;\n",
       "}\n",
       "#T_42b1e tr:nth-child(odd) {\n",
       "  background: #ffffff;\n",
       "  color: #231f20;\n",
       "}\n",
       "#T_42b1e caption {\n",
       "  text-align: center;\n",
       "  font-size: 150%;\n",
       "}\n",
       "#T_42b1e_row0_col0, #T_42b1e_row0_col1, #T_42b1e_row1_col0, #T_42b1e_row1_col1, #T_42b1e_row2_col0, #T_42b1e_row2_col1, #T_42b1e_row3_col0, #T_42b1e_row3_col1, #T_42b1e_row4_col0, #T_42b1e_row4_col1, #T_42b1e_row5_col0, #T_42b1e_row5_col1 {\n",
       "  text-align: left;\n",
       "  border: 1px #231f20 solid !important;\n",
       "  overwrite: False;\n",
       "}\n",
       "</style>\n",
       "<table id=\"T_42b1e\">\n",
       "  <caption>Slice</caption>\n",
       "  <thead>\n",
       "  </thead>\n",
       "  <tbody>\n",
       "    <tr>\n",
       "      <td id=\"T_42b1e_row0_col0\" class=\"data row0 col0\" >ID</td>\n",
       "      <td id=\"T_42b1e_row0_col1\" class=\"data row0 col1\" >bf124347-9e91-4ac2-9bcd-a3623b0a3d5e</td>\n",
       "    </tr>\n",
       "    <tr>\n",
       "      <td id=\"T_42b1e_row1_col0\" class=\"data row1 col0\" >Name</td>\n",
       "      <td id=\"T_42b1e_row1_col1\" class=\"data row1 col1\" >latency_monitoring_slice</td>\n",
       "    </tr>\n",
       "    <tr>\n",
       "      <td id=\"T_42b1e_row2_col0\" class=\"data row2 col0\" >Lease Expiration (UTC)</td>\n",
       "      <td id=\"T_42b1e_row2_col1\" class=\"data row2 col1\" >2024-02-08 20:52:29 +0000</td>\n",
       "    </tr>\n",
       "    <tr>\n",
       "      <td id=\"T_42b1e_row3_col0\" class=\"data row3 col0\" >Lease Start (UTC)</td>\n",
       "      <td id=\"T_42b1e_row3_col1\" class=\"data row3 col1\" >2024-01-12 17:18:37 +0000</td>\n",
       "    </tr>\n",
       "    <tr>\n",
       "      <td id=\"T_42b1e_row4_col0\" class=\"data row4 col0\" >Project ID</td>\n",
       "      <td id=\"T_42b1e_row4_col1\" class=\"data row4 col1\" >7a5adb91-c4c0-4a1c-8021-7b6c56af196f</td>\n",
       "    </tr>\n",
       "    <tr>\n",
       "      <td id=\"T_42b1e_row5_col0\" class=\"data row5 col0\" >State</td>\n",
       "      <td id=\"T_42b1e_row5_col1\" class=\"data row5 col1\" >StableOK</td>\n",
       "    </tr>\n",
       "  </tbody>\n",
       "</table>\n"
      ],
      "text/plain": [
       "<pandas.io.formats.style.Styler at 0x7f02c0635e40>"
      ]
     },
     "execution_count": 7,
     "metadata": {},
     "output_type": "execute_result"
    }
   ],
   "source": [
    "slice.show()"
   ]
  },
  {
   "cell_type": "markdown",
   "id": "ee56cb90-6037-4bfc-8b0d-514fd12340ae",
   "metadata": {},
   "source": [
    "## Restore configuration\n",
    "This is where magic happens even though it does not return any output"
   ]
  },
  {
   "cell_type": "code",
   "execution_count": 9,
   "id": "28e28fab-490a-4d76-8da9-b20665a957f3",
   "metadata": {},
   "outputs": [],
   "source": [
    "for n in slice.get_nodes():\n",
    "     n.config()"
   ]
  },
  {
   "cell_type": "code",
   "execution_count": null,
   "id": "47341847-5246-4224-921c-644706ec2f25",
   "metadata": {},
   "outputs": [],
   "source": []
  }
 ],
 "metadata": {
  "kernelspec": {
   "display_name": "Python 3 (ipykernel)",
   "language": "python",
   "name": "python3"
  },
  "language_info": {
   "codemirror_mode": {
    "name": "ipython",
    "version": 3
   },
   "file_extension": ".py",
   "mimetype": "text/x-python",
   "name": "python",
   "nbconvert_exporter": "python",
   "pygments_lexer": "ipython3",
   "version": "3.10.6"
  }
 },
 "nbformat": 4,
 "nbformat_minor": 5
}
