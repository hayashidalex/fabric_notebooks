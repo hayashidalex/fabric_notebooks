{
 "cells": [
  {
   "cell_type": "markdown",
   "id": "8e5180bb-d87f-462f-ae0d-a616758c016a",
   "metadata": {},
   "source": [
    "# Reboot and Reconfigure Node(s)"
   ]
  },
  {
   "cell_type": "code",
   "execution_count": null,
   "id": "1533e036-4336-4830-bcb4-d305b5ac838b",
   "metadata": {},
   "outputs": [],
   "source": [
    "from fabrictestbed_extensions.fablib.fablib import FablibManager as fablib_manager\n",
    "\n",
    "try:\n",
    "    fm = fablib_manager()       \n",
    "    fm.show_config()\n",
    "except Exception as e:\n",
    "    print(f\"Exception: {e}\")"
   ]
  },
  {
   "cell_type": "code",
   "execution_count": null,
   "id": "8aa3e5d7-020c-4b38-8eb7-13fff94f5f14",
   "metadata": {},
   "outputs": [],
   "source": [
    "fm.list_slices()"
   ]
  },
  {
   "cell_type": "code",
   "execution_count": null,
   "id": "5b4214d2-34f8-4f24-b755-208e4e8af87e",
   "metadata": {},
   "outputs": [],
   "source": [
    "slice_name = \"test_slice\"\n",
    "slice = fm.get_slice(name=slice_name)"
   ]
  },
  {
   "cell_type": "markdown",
   "id": "261786df-ff17-42d4-b9dd-6846f6375fcd",
   "metadata": {},
   "source": [
    "## Reboot ALL nodes"
   ]
  },
  {
   "cell_type": "code",
   "execution_count": null,
   "id": "59e46e74-7bc5-4ffe-bbc0-ae530741bb03",
   "metadata": {},
   "outputs": [],
   "source": [
    "for n in slice.get_nodes():\n",
    "    print(n.get_name())\n",
    "    n.os_reboot()"
   ]
  },
  {
   "cell_type": "markdown",
   "id": "50f9a6c6-9847-4bd8-9a89-eaae0de0955c",
   "metadata": {},
   "source": [
    "## Reconfigure ALL nodes"
   ]
  },
  {
   "cell_type": "code",
   "execution_count": null,
   "id": "3751e5f7-dd0b-43d8-aa44-abb0a5096b40",
   "metadata": {},
   "outputs": [],
   "source": [
    "slice.wait_ssh()\n",
    "for n in slice.get_nodes():\n",
    "      n.config()"
   ]
  },
  {
   "cell_type": "markdown",
   "id": "36fc6b56-ad3f-433d-8584-db1002094b2f",
   "metadata": {},
   "source": [
    "## If only one node needs intervention"
   ]
  },
  {
   "cell_type": "code",
   "execution_count": null,
   "id": "a8695051-1712-487b-abb0-4d5fbcbe30e1",
   "metadata": {},
   "outputs": [],
   "source": [
    "node0 = slice.get_node(name=\"node0\")\n",
    "node0.os_reboot()"
   ]
  },
  {
   "cell_type": "markdown",
   "id": "14d8ee8d-c5a9-432e-9866-523a8e0c98c1",
   "metadata": {},
   "source": [
    "Wait enough time"
   ]
  },
  {
   "cell_type": "code",
   "execution_count": null,
   "id": "93005dcf-0726-45ed-a856-8f579afedee4",
   "metadata": {},
   "outputs": [],
   "source": [
    "slice.wait_ssh()\n",
    "node0.config()"
   ]
  },
  {
   "cell_type": "code",
   "execution_count": null,
   "id": "fe675a4c-2df2-452f-8388-b5ae003c4ace",
   "metadata": {},
   "outputs": [],
   "source": []
  }
 ],
 "metadata": {
  "kernelspec": {
   "display_name": "Python 3 (ipykernel)",
   "language": "python",
   "name": "python3"
  },
  "language_info": {
   "codemirror_mode": {
    "name": "ipython",
    "version": 3
   },
   "file_extension": ".py",
   "mimetype": "text/x-python",
   "name": "python",
   "nbconvert_exporter": "python",
   "pygments_lexer": "ipython3",
   "version": "3.11.9"
  }
 },
 "nbformat": 4,
 "nbformat_minor": 5
}
