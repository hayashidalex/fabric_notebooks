{
 "cells": [
  {
   "cell_type": "markdown",
   "id": "40f987dc-2094-4efe-a673-3ca8ca30ba63",
   "metadata": {},
   "source": [
    "# UTILS - Down/Upload Files"
   ]
  },
  {
   "cell_type": "code",
   "execution_count": null,
   "id": "f564165b-5939-4df1-9494-37893503d142",
   "metadata": {},
   "outputs": [],
   "source": [
    "from fabrictestbed_extensions.fablib.fablib import fablib"
   ]
  },
  {
   "cell_type": "markdown",
   "id": "622165a3-18be-499d-aa66-a1eb9363572e",
   "metadata": {},
   "source": [
    "## List slices"
   ]
  },
  {
   "cell_type": "code",
   "execution_count": null,
   "id": "0d7e7486-ef12-4d1d-91cd-fb12339cde61",
   "metadata": {},
   "outputs": [],
   "source": [
    "fm.list_slices()"
   ]
  },
  {
   "cell_type": "markdown",
   "id": "ca2fa7d2-dcd1-46e1-b24c-ee477ac759be",
   "metadata": {},
   "source": [
    "## Chose a slice"
   ]
  },
  {
   "cell_type": "code",
   "execution_count": null,
   "id": "1be654fb-5f02-4a0e-82b4-2ad448b24f1d",
   "metadata": {},
   "outputs": [],
   "source": [
    "slice_name = \"test_slice\""
   ]
  },
  {
   "cell_type": "code",
   "execution_count": null,
   "id": "f4213d72-2209-4bfa-b29d-d32da1d75774",
   "metadata": {},
   "outputs": [],
   "source": [
    "try:\n",
    "    slice = fablib.get_slice(name=slice_name)\n",
    "except Exception as e:\n",
    "    print(f\"Fail: {e}\")\n",
    "print(slice)"
   ]
  },
  {
   "cell_type": "markdown",
   "id": "6cd750ab-7cfe-4825-b400-689e358c699c",
   "metadata": {},
   "source": [
    "## Get the list of nodes and choose the node"
   ]
  },
  {
   "cell_type": "code",
   "execution_count": null,
   "id": "21a0dd35-72dd-4558-a1eb-f32fcbb9d1b9",
   "metadata": {},
   "outputs": [],
   "source": [
    "nodes = slice.get_nodes()\n",
    "for node in nodes:\n",
    "    print(node.get_name())"
   ]
  },
  {
   "cell_type": "code",
   "execution_count": null,
   "id": "dcfcba63-54c1-4ad2-bc9e-e643f13f03e5",
   "metadata": {},
   "outputs": [],
   "source": [
    "node = slice.get_node(name=\"<node name>\")"
   ]
  },
  {
   "cell_type": "markdown",
   "id": "5043e270-e64c-45ba-a88c-6a6079024340",
   "metadata": {},
   "source": [
    "## Download a file"
   ]
  },
  {
   "cell_type": "code",
   "execution_count": null,
   "id": "86e381b5-0a2f-4f31-bdf0-c319afdd9df3",
   "metadata": {},
   "outputs": [],
   "source": [
    "node.download_file(\"local/path/to/file/where/it/should/be/downloaded\", \"remote/path/\")"
   ]
  },
  {
   "cell_type": "markdown",
   "id": "616703b7-fa62-4733-9708-26a01f3bd8ea",
   "metadata": {},
   "source": [
    "## Upload a file"
   ]
  },
  {
   "cell_type": "code",
   "execution_count": null,
   "id": "bbf398a5-eedf-4d11-8112-fcc692389c0b",
   "metadata": {},
   "outputs": [],
   "source": [
    "node.upload_file(\"local/file/path\", \"remote_file/path\")"
   ]
  }
 ],
 "metadata": {
  "kernelspec": {
   "display_name": "Python 3 (ipykernel)",
   "language": "python",
   "name": "python3"
  },
  "language_info": {
   "codemirror_mode": {
    "name": "ipython",
    "version": 3
   },
   "file_extension": ".py",
   "mimetype": "text/x-python",
   "name": "python",
   "nbconvert_exporter": "python",
   "pygments_lexer": "ipython3",
   "version": "3.10.6"
  }
 },
 "nbformat": 4,
 "nbformat_minor": 5
}
