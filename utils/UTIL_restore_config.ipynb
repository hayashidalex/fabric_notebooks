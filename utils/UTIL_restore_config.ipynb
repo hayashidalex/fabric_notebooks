{
 "cells": [
  {
   "cell_type": "markdown",
   "id": "fced16a6-fda9-4877-ad3c-1765ec0c4c87",
   "metadata": {},
   "source": [
    "# Restore Config (used for a lost dataplane IP)\n",
    "\n",
    "When a node went down, the dataplane IP address was lost. This simple script restores it."
   ]
  },
  {
   "cell_type": "code",
   "execution_count": null,
   "id": "c1497293-dbdf-4a1f-8783-bfc5ec067624",
   "metadata": {},
   "outputs": [],
   "source": [
    "from fabrictestbed_extensions.fablib.fablib import FablibManager as fablib_manager\n",
    "\n",
    "try:\n",
    "    fm = fablib_manager()\n",
    "                     \n",
    "    fm.show_config()\n",
    "except Exception as e:\n",
    "    print(f\"Exception: {e}\")"
   ]
  },
  {
   "cell_type": "code",
   "execution_count": null,
   "id": "96a8c047-e657-4d79-a7f0-d1293a182e6a",
   "metadata": {},
   "outputs": [],
   "source": [
    "slice_name = \"latency_monitoring_slice\"\n",
    "slice = fm.get_slice(name=slice_name)"
   ]
  },
  {
   "cell_type": "code",
   "execution_count": null,
   "id": "3f103d7e-34e8-4fc6-a45b-a4f718548b83",
   "metadata": {},
   "outputs": [],
   "source": [
    "slice.show()"
   ]
  },
  {
   "cell_type": "markdown",
   "id": "ee56cb90-6037-4bfc-8b0d-514fd12340ae",
   "metadata": {},
   "source": [
    "## Restore configuration\n",
    "This is where magic happens even though it does not return any output"
   ]
  },
  {
   "cell_type": "code",
   "execution_count": null,
   "id": "28e28fab-490a-4d76-8da9-b20665a957f3",
   "metadata": {},
   "outputs": [],
   "source": [
    "for n in slice.get_nodes():\n",
    "     n.config()"
   ]
  },
  {
   "cell_type": "code",
   "execution_count": null,
   "id": "47341847-5246-4224-921c-644706ec2f25",
   "metadata": {},
   "outputs": [],
   "source": []
  }
 ],
 "metadata": {
  "kernelspec": {
   "display_name": "Python 3 (ipykernel)",
   "language": "python",
   "name": "python3"
  },
  "language_info": {
   "codemirror_mode": {
    "name": "ipython",
    "version": 3
   },
   "file_extension": ".py",
   "mimetype": "text/x-python",
   "name": "python",
   "nbconvert_exporter": "python",
   "pygments_lexer": "ipython3",
   "version": "3.11.6"
  }
 },
 "nbformat": 4,
 "nbformat_minor": 5
}
