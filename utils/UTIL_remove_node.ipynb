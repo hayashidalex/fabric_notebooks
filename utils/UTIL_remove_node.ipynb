{
 "cells": [
  {
   "cell_type": "markdown",
   "id": "fced16a6-fda9-4877-ad3c-1765ec0c4c87",
   "metadata": {},
   "source": [
    "# Remove a node\n",
    "\n",
    "Delete a node in a running slice. It does NOT work if the node is unreachable on a management network."
   ]
  },
  {
   "cell_type": "code",
   "execution_count": null,
   "id": "c1497293-dbdf-4a1f-8783-bfc5ec067624",
   "metadata": {},
   "outputs": [],
   "source": [
    "from fabrictestbed_extensions.fablib.fablib import FablibManager as fablib_manager\n",
    "\n",
    "try:\n",
    "    fm = fablib_manager()\n",
    "                     \n",
    "    fm.show_config()\n",
    "except Exception as e:\n",
    "    print(f\"Exception: {e}\")"
   ]
  },
  {
   "cell_type": "code",
   "execution_count": null,
   "id": "96a8c047-e657-4d79-a7f0-d1293a182e6a",
   "metadata": {},
   "outputs": [],
   "source": [
    "slice_name = \"latency_monitoring_slice\"\n",
    "slice = fm.get_slice(name=slice_name)"
   ]
  },
  {
   "cell_type": "code",
   "execution_count": null,
   "id": "3f103d7e-34e8-4fc6-a45b-a4f718548b83",
   "metadata": {},
   "outputs": [],
   "source": [
    "slice.show()"
   ]
  },
  {
   "cell_type": "markdown",
   "id": "ee56cb90-6037-4bfc-8b0d-514fd12340ae",
   "metadata": {},
   "source": [
    "## Remove a node"
   ]
  },
  {
   "cell_type": "code",
   "execution_count": null,
   "id": "28e28fab-490a-4d76-8da9-b20665a957f3",
   "metadata": {},
   "outputs": [],
   "source": [
    "bye_node = slice.get_node(name=\"node20\")\n",
    "bye_node.delete()\n",
    "slice.submit()"
   ]
  },
  {
   "cell_type": "code",
   "execution_count": null,
   "id": "47341847-5246-4224-921c-644706ec2f25",
   "metadata": {},
   "outputs": [],
   "source": []
  }
 ],
 "metadata": {
  "kernelspec": {
   "display_name": "Python 3 (ipykernel)",
   "language": "python",
   "name": "python3"
  },
  "language_info": {
   "codemirror_mode": {
    "name": "ipython",
    "version": 3
   },
   "file_extension": ".py",
   "mimetype": "text/x-python",
   "name": "python",
   "nbconvert_exporter": "python",
   "pygments_lexer": "ipython3",
   "version": "3.11.6"
  }
 },
 "nbformat": 4,
 "nbformat_minor": 5
}
